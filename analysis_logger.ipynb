{
 "cells": [
  {
   "cell_type": "markdown",
   "metadata": {},
   "source": [
    "## Select the analysis mode from the dropdown menu below."
   ]
  },
  {
   "cell_type": "code",
   "execution_count": 3,
   "metadata": {},
   "outputs": [
    {
     "data": {
      "application/vnd.jupyter.widget-view+json": {
       "model_id": "0b8e68f253174e20aec8ffabff8c662b",
       "version_major": 2,
       "version_minor": 0
      },
      "text/plain": [
       "interactive(children=(Dropdown(description='analysis_mode', options=('fake analysis', 'fake analysis 2'), valu…"
      ]
     },
     "metadata": {},
     "output_type": "display_data"
    }
   ],
   "source": [
    "import ipywidgets as widgets\n",
    "from ipywidgets import interact\n",
    "\n",
    "def set_analysis_type(analysis_mode):\n",
    "    global analysis_type\n",
    "    analysis_type = analysis_mode\n",
    "    print('analysis mode is {a_type} \\n'.format(a_type = analysis_type))\n",
    "\n",
    "mode_select_widget = interact(set_analysis_type,analysis_mode=['fake analysis' , 'fake analysis 2'])"
   ]
  },
  {
   "cell_type": "markdown",
   "metadata": {},
   "source": [
    "## Enter the filepath to the run you wish to analyze."
   ]
  },
  {
   "cell_type": "code",
   "execution_count": 4,
   "metadata": {},
   "outputs": [
    {
     "name": "stdout",
     "output_type": "stream",
     "text": [
      "Enter path, e.g. 07\\200729\\foo\\ for run foo on Jul 29, 2020: 07\\200729\\foo\\\n"
     ]
    }
   ],
   "source": [
    "global watchfile\n",
    "watchfile = input(r'Enter path, e.g. 07\\200729\\foo\\ for run foo on Jul 29, 2020: ') + 'image_log.csv' #r'07\\200729\\foo\\image_log.csv'"
   ]
  },
  {
   "cell_type": "markdown",
   "metadata": {},
   "source": [
    "## Run the cell below to begin analyzing.\n",
    "\n",
    "Check the output; it will update as images are analyzed.\n",
    "\n",
    "To stop the analysis, press the interrupt kernel/stop button at the very top. You can restart the analysis by simply running the cell below again. The console output will be cleared, but not to worry, it's all in the log file."
   ]
  },
  {
   "cell_type": "code",
   "execution_count": 11,
   "metadata": {},
   "outputs": [
    {
     "name": "stdout",
     "output_type": "stream",
     "text": [
      "\n",
      "\n",
      " Watching this file for changes: 07\\200729\\foo\\image_log.csv\n",
      "\n",
      "\n",
      "image00.csv analyzed: {'fake analysis 1': 16, 'fake analysis 2': 3}\n",
      "image40_165242.csv analyzed: {'fake analysis 1': 6, 'fake analysis 2': 16}\n",
      "image30_165236.csv analyzed: {'fake analysis 1': 28, 'fake analysis 2': 27}\n",
      "image20_165230.csv analyzed: {'fake analysis 1': 20, 'fake analysis 2': 38}\n",
      "image10_165224.csv analyzed: {'fake analysis 1': 26, 'fake analysis 2': 26}\n",
      "image00_165218.csv analyzed: {'fake analysis 1': 8, 'fake analysis 2': 2}\n",
      "image40.csv analyzed: {'fake analysis 1': 25, 'fake analysis 2': 30}\n",
      "image30.csv analyzed: {'fake analysis 1': 36, 'fake analysis 2': 38}\n",
      "image20.csv analyzed: {'fake analysis 1': 1, 'fake analysis 2': 24}\n",
      "image10.csv analyzed: {'fake analysis 1': 11, 'fake analysis 2': 37}\n"
     ]
    },
    {
     "ename": "KeyboardInterrupt",
     "evalue": "",
     "output_type": "error",
     "traceback": [
      "\u001b[1;31m---------------------------------------------------------------------------\u001b[0m",
      "\u001b[1;31mKeyboardInterrupt\u001b[0m                         Traceback (most recent call last)",
      "\u001b[1;32m<ipython-input-11-f86bc9735791>\u001b[0m in \u001b[0;36m<module>\u001b[1;34m\u001b[0m\n\u001b[0;32m    147\u001b[0m         \u001b[0mtime\u001b[0m\u001b[1;33m.\u001b[0m\u001b[0msleep\u001b[0m\u001b[1;33m(\u001b[0m\u001b[0mrefresh_time\u001b[0m\u001b[1;33m)\u001b[0m\u001b[1;33m\u001b[0m\u001b[1;33m\u001b[0m\u001b[0m\n\u001b[0;32m    148\u001b[0m \u001b[1;33m\u001b[0m\u001b[0m\n\u001b[1;32m--> 149\u001b[1;33m \u001b[0mmain\u001b[0m\u001b[1;33m(\u001b[0m\u001b[1;33m)\u001b[0m\u001b[1;33m\u001b[0m\u001b[1;33m\u001b[0m\u001b[0m\n\u001b[0m",
      "\u001b[1;32m<ipython-input-11-f86bc9735791>\u001b[0m in \u001b[0;36mmain\u001b[1;34m()\u001b[0m\n\u001b[0;32m    145\u001b[0m \u001b[1;33m\u001b[0m\u001b[0m\n\u001b[0;32m    146\u001b[0m         \u001b[1;31m# Wait before checking again\u001b[0m\u001b[1;33m\u001b[0m\u001b[1;33m\u001b[0m\u001b[1;33m\u001b[0m\u001b[0m\n\u001b[1;32m--> 147\u001b[1;33m         \u001b[0mtime\u001b[0m\u001b[1;33m.\u001b[0m\u001b[0msleep\u001b[0m\u001b[1;33m(\u001b[0m\u001b[0mrefresh_time\u001b[0m\u001b[1;33m)\u001b[0m\u001b[1;33m\u001b[0m\u001b[1;33m\u001b[0m\u001b[0m\n\u001b[0m\u001b[0;32m    148\u001b[0m \u001b[1;33m\u001b[0m\u001b[0m\n\u001b[0;32m    149\u001b[0m \u001b[0mmain\u001b[0m\u001b[1;33m(\u001b[0m\u001b[1;33m)\u001b[0m\u001b[1;33m\u001b[0m\u001b[1;33m\u001b[0m\u001b[0m\n",
      "\u001b[1;31mKeyboardInterrupt\u001b[0m: "
     ]
    }
   ],
   "source": [
    "'''\n",
    "breadboard_python_watchdog.py\n",
    "=============================\n",
    "This lets you watch a folder for new single images and upload the metadata to Breadboard. \n",
    "Usage:\n",
    "\n",
    "python3 breadboard_python_watchdog.py [WATCHFOLDER]\n",
    "\n",
    "where [WATCHFOLDER] is the folder your camera program writes images to.\n",
    "\n",
    "'''\n",
    "\n",
    "# Imports\n",
    "import os\n",
    "import time\n",
    "import datetime\n",
    "import shutil\n",
    "import posixpath\n",
    "import sys\n",
    "# from breadboard import BreadboardClient\n",
    "import warnings\n",
    "import pandas as pd\n",
    "from numpy import isnan\n",
    "import ipywidgets as widgets\n",
    "from ipywidgets import interact\n",
    "\n",
    "\n",
    "# analysis_type = 'fake analysis'\n",
    "\n",
    "# define analysis_function which accepts image filepath and returns dictionary of {analyzed_var_name:analysis_value}\n",
    "if analysis_type == 'fake analysis':\n",
    "    from random import randint\n",
    "    def analysis_function(filepath):\n",
    "#         time.sleep(2)\n",
    "        return {'fake analysis 1': randint(0,42), 'fake analysis 2': randint(0,42)}\n",
    "    analyzed_var_names = ['fake analysis 1', 'fake analysis 2']\n",
    "elif analysis_type == 'fake analysis 2':\n",
    "    from random import randint\n",
    "    def analysis_function(filepath):\n",
    "#         time.sleep(2)\n",
    "        return {'fake analysis 3': randint(0,42), 'fake analysis 4': randint(0,42)}\n",
    "    analyzed_var_names = ['fake analysis 3', 'fake analysis 4']\n",
    "else:\n",
    "    print('loading matlab engine...')\n",
    "    import matlab.engine\n",
    "    eng = matlab.engine.start_matlab()\n",
    "    print('matlab engine loaded')\n",
    "    from MATLABanalyzer import MATLABanalyzer\n",
    "    analyzer = MATLABanalyzer(eng)\n",
    "\n",
    "if analysis_type == 'Ncntbare':\n",
    "    def analysis_function(filepath):\n",
    "        return {'bareNcntAverageMarqueeBoxValues': analyzer.get_analysis(filepath)['bareNcntAverageMarqueeBoxValues']}\n",
    "    analyzed_var_names = ['bareNcntAverageMarqueeBoxValues'] #TODO import var_names from MATLAB function instead of hardcoding\n",
    "    \n",
    "warnings.filterwarnings(\n",
    "    \"ignore\", \"Your application has authenticated using end user credentials\")\n",
    "warnings.filterwarnings(\n",
    "    \"ignore\", \"Could not find appropriate MS Visual C Runtime\")\n",
    "# bc = BreadboardClient(config_path='API_CONFIG_fermi1.json')\n",
    "\n",
    "def translate_stringy_list(stringy_list):\n",
    "    #pd.read_csv imports listboundvariables dtype as a string, we want it in list form\n",
    "    final_list = []\n",
    "    stringy_list = stringy_list.split(',')\n",
    "    for var in stringy_list:\n",
    "        final_list.append(var.translate({ord(c): None for c in '[ ]\\,\\''}))\n",
    "    return final_list\n",
    "\n",
    "def analysis_to_imagelog(image_log_df, idx, outputlog_filename):\n",
    "    image_filename = image_log_df.loc[idx, 'filename0']\n",
    "    analysis_dict = analysis_function(image_filename)\n",
    "    for key in analysis_dict:\n",
    "        image_log_df.loc[idx,key] = analysis_dict[key]\n",
    "    image_log_df.to_csv(outputlog_filename, index = False)\n",
    "    print('{file} analyzed: '.format(file=image_filename) + str(analysis_dict))\n",
    "\n",
    "def main():\n",
    "    # Global settings\n",
    "    # bc = BreadboardClient(config_path='API_CONFIG.json') # enter your path to the API_config\n",
    "    refresh_time = 0.5  # seconds\n",
    "    global watchfile\n",
    "#     watchfile = r'07\\200729\\foo\\image_log.csv'\n",
    "    print(\"\\n\\n Watching this file for changes: \" + watchfile + \"\\n\\n\")\n",
    "\n",
    "#     length_old = 0\n",
    "\n",
    "    # Main Loop\n",
    "    while True:\n",
    "        if not os.path.exists(watchfile):\n",
    "            time.sleep(0.5)\n",
    "            continue\n",
    "        else:\n",
    "            image_log_df = pd.read_csv(watchfile)\n",
    "\n",
    "        for var_name in analyzed_var_names:\n",
    "            if var_name not in image_log_df.columns: #start new analysis type\n",
    "#             print('{analysis} analysis started'.format(analysis = analysis_type))\n",
    "                analysis_to_imagelog(image_log_df, 0, watchfile)\n",
    "                if 'analyzed_variables' not in image_log_df.columns:\n",
    "                    image_log_df.loc[0,'analyzed_variables'] = str(analyzed_var_names)\n",
    "                    image_log_df.to_csv(watchfile, index = False)\n",
    "                else:\n",
    "                    old_analyzed_variables = set(translate_stringy_list(image_log_df.loc[0,'analyzed_variables']))\n",
    "                    updated_analyzed_variables = list(old_analyzed_variables.union(set(analyzed_var_names)))\n",
    "                    image_log_df.loc[0,'analyzed_variables'] = str(updated_analyzed_variables)\n",
    "                    image_log_df.to_csv(watchfile, index = False)\n",
    "            else: #queue un-analyzed images\n",
    "                for idx in reversed(range(len(image_log_df.index))): #start from most recent image first\n",
    "                    if isnan(image_log_df.loc[idx, var_name]):\n",
    "                        analysis_to_imagelog(image_log_df, idx, watchfile)\n",
    "                        if isinstance(image_log_df.loc[idx,'analyzed_variables'],float):\n",
    "                            image_log_df.loc[idx,'analyzed_variables'] = str(analyzed_var_names)\n",
    "                            image_log_df.to_csv(watchfile, index = False)\n",
    "                        else:\n",
    "                            old_analyzed_variables = set(translate_stringy_list(image_log_df.loc[idx,'analyzed_variables']))\n",
    "                            updated_analyzed_variables = list(old_analyzed_variables.union(set(analyzed_var_names)))\n",
    "                            image_log_df.loc[idx,'analyzed_variables'] = str(updated_analyzed_variables)\n",
    "                            image_log_df.to_csv(watchfile, index = False)\n",
    "\n",
    "    # check if a new image has come in\n",
    "#         if len(image_log_df.index) > length_old:\n",
    "#             image_filename = image_log_df.loc[len(\n",
    "#                 image_log_df.index) - 1, 'filename']\n",
    "#             print('New image: ' + image_filename + '. Analyzing now...')\n",
    "#             analysis_variable = analysis_function(image_filename)\n",
    "#             image_log_df.loc[len(image_log_df.index) - 1,\n",
    "#                              analysis_type] = analysis_variable\n",
    "#             image_log_df.to_csv('image_log.csv', index = False)\n",
    "#             print('analysis value ' + str(analysis_variable))\n",
    "\n",
    "            # # Write to Breadboard\n",
    "            # try:\n",
    "            #     resp = bc.post_images(\n",
    "            #                 image_names = os.path.splitext(output_filename)[0],\n",
    "            #                 filepath = output_filepath,\n",
    "            #                 image_times = [dt],\n",
    "            #                 auto_time = False # Add more information here\n",
    "            #                 )\n",
    "            #     if resp.status_code!=200:\n",
    "            #         print(resp.text)\n",
    "            # except: pass\n",
    "            # names_old = names\n",
    "#             length_old = len(image_log_df.index)\n",
    "\n",
    "        # Wait before checking again\n",
    "        time.sleep(refresh_time)\n",
    "\n",
    "main()"
   ]
  },
  {
   "cell_type": "code",
   "execution_count": null,
   "metadata": {},
   "outputs": [],
   "source": []
  }
 ],
 "metadata": {
  "kernelspec": {
   "display_name": "Python 3",
   "language": "python",
   "name": "python3"
  },
  "language_info": {
   "codemirror_mode": {
    "name": "ipython",
    "version": 3
   },
   "file_extension": ".py",
   "mimetype": "text/x-python",
   "name": "python",
   "nbconvert_exporter": "python",
   "pygments_lexer": "ipython3",
   "version": "3.7.1"
  }
 },
 "nbformat": 4,
 "nbformat_minor": 4
}
