{
 "cells": [
  {
   "cell_type": "markdown",
   "metadata": {},
   "source": [
    "## Run the next two cells to begin analyzing.\n",
    "\n",
    "Check the output; it will update as images are analyzed.\n",
    "\n",
    "To stop the analysis, press the interrupt kernel/stop button at the very top. You can restart the analysis by simply running the cell below again. The console output will be cleared, but not to worry, it's all in the log file."
   ]
  },
  {
   "cell_type": "code",
   "execution_count": 1,
   "metadata": {
    "scrolled": true
   },
   "outputs": [
    {
     "data": {
      "application/vnd.jupyter.widget-view+json": {
       "model_id": "61d48671032e483e818614873fc069b8",
       "version_major": 2,
       "version_minor": 0
      },
      "text/plain": [
       "interactive(children=(Dropdown(description='analysis_mode', options=('zcam_dual_imaging', 'fake analysis', 'fa…"
      ]
     },
     "metadata": {},
     "output_type": "display_data"
    },
    {
     "data": {
      "application/vnd.jupyter.widget-view+json": {
       "model_id": "8b99d0e06fdd49d8b7da9d7864c80200",
       "version_major": 2,
       "version_minor": 0
      },
      "text/plain": [
       "HBox(children=(Dropdown(description=\"today's measurements\", options=('run1_test',), value='run1_test'), Button…"
      ]
     },
     "metadata": {},
     "output_type": "display_data"
    },
    {
     "name": "stdout",
     "output_type": "stream",
     "text": [
      "08\\200814\\run1_test\n"
     ]
    }
   ],
   "source": [
    "from ipywidgets import interact\n",
    "import ipywidgets as widgets\n",
    "from analysis_logger import main\n",
    "from measurement_directory import *\n",
    "# main('zcam_dual_imaging', r'08\\200814\\run1_test')\n",
    "\n",
    "def set_analysis_type(analysis_mode):\n",
    "    global analysis_type\n",
    "    analysis_type = analysis_mode\n",
    "    print('analysis mode is {a_type} \\n'.format(a_type = analysis_type))\n",
    "\n",
    "mode_select_widget = interact(set_analysis_type,analysis_mode=['zcam_dual_imaging', 'fake analysis' , 'fake analysis 2', 'ycam'])\n",
    "measurement_menu = widgets.Dropdown(options = todays_measurements(),\n",
    "                                   description = 'today\\'s measurements' )\n",
    "load_measurement_button = widgets.Button(description = 'select measurement')\n",
    "def load_measurement(button):\n",
    "    global watchfolder\n",
    "    watchfolder = measurement_directory(measurement_name = measurement_menu.value)\n",
    "    print(watchfolder)\n",
    "load_measurement_button.on_click(load_measurement)\n",
    "widgets.HBox([measurement_menu, load_measurement_button])"
   ]
  },
  {
   "cell_type": "code",
   "execution_count": 2,
   "metadata": {
    "scrolled": true
   },
   "outputs": [
    {
     "name": "stdout",
     "output_type": "stream",
     "text": [
      "\n",
      "\n",
      " Watching this folder for changes: 08\\200814\\run1_test\n",
      "\n",
      "\n",
      "loading matlab engine...\n"
     ]
    },
    {
     "name": "stderr",
     "output_type": "stream",
     "text": [
      "DEBUG:analysis_logger:223736_0.spe analyzing: \n"
     ]
    },
    {
     "name": "stdout",
     "output_type": "stream",
     "text": [
      "matlab engine loaded\n",
      "K_bareNcntAverageMarqueeBoxValues 10.256646889570137\n",
      "Na_bareNcntAverageMarqueeBoxValues 527.984158155121\n",
      "Na_COMX 115.43487068027882\n",
      "Na_COMY 38.91158646148183\n"
     ]
    },
    {
     "name": "stderr",
     "output_type": "stream",
     "text": [
      "DEBUG:analysis_logger:223735_0.spe analyzing: \n"
     ]
    },
    {
     "name": "stdout",
     "output_type": "stream",
     "text": [
      "run_id 223736 analyzed: {'K_bareNcntAverageMarqueeBoxValues': 10.256646889570137, 'Na_bareNcntAverageMarqueeBoxValues': 527.984158155121, 'Na_COMX': 115.43487068027882, 'Na_COMY': 38.91158646148183}\n",
      "\n",
      "FBinGauss: \n",
      "79.27\n",
      "repetition: \n",
      "2.0\n",
      "PAtime: \n",
      "10.0\n",
      "AOMPA: \n",
      "365.0\n",
      "PAlogic: \n",
      "0.0\n",
      "\n",
      "\n",
      "K_bareNcntAverageMarqueeBoxValues 16.6359384849466\n",
      "Na_bareNcntAverageMarqueeBoxValues 372.59194597814155\n",
      "Na_COMX 115.51904616941157\n",
      "Na_COMY 39.91813385010637\n"
     ]
    },
    {
     "name": "stderr",
     "output_type": "stream",
     "text": [
      "DEBUG:analysis_logger:223734_0.spe analyzing: \n"
     ]
    },
    {
     "name": "stdout",
     "output_type": "stream",
     "text": [
      "run_id 223735 analyzed: {'K_bareNcntAverageMarqueeBoxValues': 16.6359384849466, 'Na_bareNcntAverageMarqueeBoxValues': 372.59194597814155, 'Na_COMX': 115.51904616941157, 'Na_COMY': 39.91813385010637}\n",
      "\n",
      "FBinGauss: \n",
      "79.27\n",
      "repetition: \n",
      "2.0\n",
      "PAtime: \n",
      "10.0\n",
      "AOMPA: \n",
      "365.0\n",
      "PAlogic: \n",
      "1.0\n",
      "\n",
      "\n",
      "K_bareNcntAverageMarqueeBoxValues 4.496843650574905\n",
      "Na_bareNcntAverageMarqueeBoxValues 392.328453100739\n",
      "Na_COMX 102.97861938564978\n",
      "Na_COMY 39.25155114110966\n",
      "run_id 223734 analyzed: {'K_bareNcntAverageMarqueeBoxValues': 4.496843650574905, 'Na_bareNcntAverageMarqueeBoxValues': 392.328453100739, 'Na_COMX': 102.97861938564978, 'Na_COMY': 39.25155114110966}\n",
      "\n",
      "FBinGauss: \n",
      "79.27\n",
      "repetition: \n",
      "2.0\n",
      "PAtime: \n",
      "10.0\n",
      "AOMPA: \n",
      "355.0\n",
      "PAlogic: \n",
      "0.0\n",
      "\n",
      "\n"
     ]
    },
    {
     "name": "stderr",
     "output_type": "stream",
     "text": [
      "DEBUG:analysis_logger:223737_0.spe analyzing: \n"
     ]
    },
    {
     "name": "stdout",
     "output_type": "stream",
     "text": [
      "K_bareNcntAverageMarqueeBoxValues 9.582183283986412\n",
      "Na_bareNcntAverageMarqueeBoxValues 482.0474822906512\n",
      "Na_COMX 114.82074550916217\n",
      "Na_COMY 39.13891950807637\n",
      "run_id 223737 analyzed: {'K_bareNcntAverageMarqueeBoxValues': 9.582183283986412, 'Na_bareNcntAverageMarqueeBoxValues': 482.0474822906512, 'Na_COMX': 114.82074550916217, 'Na_COMY': 39.13891950807637}\n",
      "\n",
      "FBinGauss: \n",
      "79.27\n",
      "repetition: \n",
      "2.0\n",
      "PAtime: \n",
      "10.0\n",
      "AOMPA: \n",
      "375.0\n",
      "PAlogic: \n",
      "1.0\n",
      "\n",
      "\n"
     ]
    },
    {
     "name": "stderr",
     "output_type": "stream",
     "text": [
      "DEBUG:analysis_logger:223738_0.spe analyzing: \n"
     ]
    },
    {
     "name": "stdout",
     "output_type": "stream",
     "text": [
      "K_bareNcntAverageMarqueeBoxValues 10.408751299575602\n",
      "Na_bareNcntAverageMarqueeBoxValues 472.35305876019845\n",
      "Na_COMX 116.33757920261235\n",
      "Na_COMY 39.037164207621274\n",
      "run_id 223738 analyzed: {'K_bareNcntAverageMarqueeBoxValues': 10.408751299575602, 'Na_bareNcntAverageMarqueeBoxValues': 472.35305876019845, 'Na_COMX': 116.33757920261235, 'Na_COMY': 39.037164207621274}\n",
      "\n",
      "FBinGauss: \n",
      "79.27\n",
      "repetition: \n",
      "2.0\n",
      "PAtime: \n",
      "10.0\n",
      "AOMPA: \n",
      "375.0\n",
      "PAlogic: \n",
      "0.0\n",
      "\n",
      "\n"
     ]
    },
    {
     "name": "stderr",
     "output_type": "stream",
     "text": [
      "DEBUG:analysis_logger:223739_0.spe analyzing: \n"
     ]
    },
    {
     "name": "stdout",
     "output_type": "stream",
     "text": [
      "K_bareNcntAverageMarqueeBoxValues 69.41923664709256\n",
      "Na_bareNcntAverageMarqueeBoxValues 69.36307471294076\n",
      "Na_COMX 109.45594643574447\n",
      "Na_COMY 39.83464090237346\n",
      "run_id 223739 analyzed: {'K_bareNcntAverageMarqueeBoxValues': 69.41923664709256, 'Na_bareNcntAverageMarqueeBoxValues': 69.36307471294076, 'Na_COMX': 109.45594643574447, 'Na_COMY': 39.83464090237346}\n",
      "\n",
      "FBinGauss: \n",
      "79.27\n",
      "repetition: \n",
      "2.0\n",
      "PAtime: \n",
      "10.0\n",
      "AOMPA: \n",
      "385.0\n",
      "PAlogic: \n",
      "1.0\n",
      "\n",
      "\n"
     ]
    },
    {
     "name": "stderr",
     "output_type": "stream",
     "text": [
      "DEBUG:analysis_logger:223740_0.spe analyzing: \n"
     ]
    },
    {
     "name": "stdout",
     "output_type": "stream",
     "text": [
      "K_bareNcntAverageMarqueeBoxValues 3.251722760046688\n",
      "Na_bareNcntAverageMarqueeBoxValues 525.4542761688248\n",
      "Na_COMX 117.62567280116879\n",
      "Na_COMY 40.63645080012385\n",
      "run_id 223740 analyzed: {'K_bareNcntAverageMarqueeBoxValues': 3.251722760046688, 'Na_bareNcntAverageMarqueeBoxValues': 525.4542761688248, 'Na_COMX': 117.62567280116879, 'Na_COMY': 40.63645080012385}\n",
      "\n",
      "FBinGauss: \n",
      "79.27\n",
      "repetition: \n",
      "2.0\n",
      "PAtime: \n",
      "10.0\n",
      "AOMPA: \n",
      "385.0\n",
      "PAlogic: \n",
      "0.0\n",
      "\n",
      "\n"
     ]
    },
    {
     "name": "stderr",
     "output_type": "stream",
     "text": [
      "DEBUG:analysis_logger:223741_0.spe analyzing: \n"
     ]
    },
    {
     "name": "stdout",
     "output_type": "stream",
     "text": [
      "K_bareNcntAverageMarqueeBoxValues 4.146152907329437\n",
      "Na_bareNcntAverageMarqueeBoxValues 494.4099293788605\n",
      "Na_COMX 118.09111483958964\n",
      "Na_COMY 39.538719285977585\n",
      "run_id 223741 analyzed: {'K_bareNcntAverageMarqueeBoxValues': 4.146152907329437, 'Na_bareNcntAverageMarqueeBoxValues': 494.4099293788605, 'Na_COMX': 118.09111483958964, 'Na_COMY': 39.538719285977585}\n",
      "\n",
      "FBinGauss: \n",
      "79.27\n",
      "repetition: \n",
      "2.0\n",
      "PAtime: \n",
      "10.0\n",
      "AOMPA: \n",
      "395.0\n",
      "PAlogic: \n",
      "1.0\n",
      "\n",
      "\n"
     ]
    },
    {
     "name": "stderr",
     "output_type": "stream",
     "text": [
      "DEBUG:analysis_logger:223742_0.spe analyzing: \n"
     ]
    },
    {
     "name": "stdout",
     "output_type": "stream",
     "text": [
      "K_bareNcntAverageMarqueeBoxValues 5.433165021980102\n",
      "Na_bareNcntAverageMarqueeBoxValues 253.38338152281065\n",
      "Na_COMX 116.676492470557\n",
      "Na_COMY 39.39863303896362\n",
      "run_id 223742 analyzed: {'K_bareNcntAverageMarqueeBoxValues': 5.433165021980102, 'Na_bareNcntAverageMarqueeBoxValues': 253.38338152281065, 'Na_COMX': 116.676492470557, 'Na_COMY': 39.39863303896362}\n",
      "\n",
      "FBinGauss: \n",
      "79.27\n",
      "repetition: \n",
      "2.0\n",
      "PAtime: \n",
      "10.0\n",
      "AOMPA: \n",
      "395.0\n",
      "PAlogic: \n",
      "0.0\n",
      "\n",
      "\n"
     ]
    },
    {
     "ename": "KeyboardInterrupt",
     "evalue": "",
     "output_type": "error",
     "traceback": [
      "\u001b[1;31m---------------------------------------------------------------------------\u001b[0m",
      "\u001b[1;31mKeyboardInterrupt\u001b[0m                         Traceback (most recent call last)",
      "\u001b[1;32m<ipython-input-2-d3150a78364d>\u001b[0m in \u001b[0;36m<module>\u001b[1;34m\u001b[0m\n\u001b[1;32m----> 1\u001b[1;33m \u001b[0mmain\u001b[0m\u001b[1;33m(\u001b[0m\u001b[0manalysis_type\u001b[0m\u001b[1;33m,\u001b[0m \u001b[0mwatchfolder\u001b[0m\u001b[1;33m)\u001b[0m\u001b[1;33m\u001b[0m\u001b[1;33m\u001b[0m\u001b[0m\n\u001b[0m",
      "\u001b[1;32mD:\\Fermidata1\\enrico\\analysis_logger.py\u001b[0m in \u001b[0;36mmain\u001b[1;34m(analysis_type, watchfolder, load_matlab, images_per_shot)\u001b[0m\n\u001b[0;32m    180\u001b[0m                 \u001b[0mprint\u001b[0m\u001b[1;33m(\u001b[0m\u001b[1;34m'\\n'\u001b[0m\u001b[1;33m)\u001b[0m\u001b[1;33m\u001b[0m\u001b[1;33m\u001b[0m\u001b[0m\n\u001b[0;32m    181\u001b[0m \u001b[1;31m################################################################################\u001b[0m\u001b[1;33m\u001b[0m\u001b[1;33m\u001b[0m\u001b[1;33m\u001b[0m\u001b[0m\n\u001b[1;32m--> 182\u001b[1;33m         \u001b[0mtime\u001b[0m\u001b[1;33m.\u001b[0m\u001b[0msleep\u001b[0m\u001b[1;33m(\u001b[0m\u001b[0mrefresh_time\u001b[0m\u001b[1;33m)\u001b[0m\u001b[1;33m\u001b[0m\u001b[1;33m\u001b[0m\u001b[0m\n\u001b[0m",
      "\u001b[1;31mKeyboardInterrupt\u001b[0m: "
     ]
    }
   ],
   "source": [
    "try:\n",
    "    main(analysis_type, watchfolder)\n",
    "except KeyboardInterrupt:\n",
    "    pass\n",
    "except:\n",
    "    enrico_bot.post_message('analysis crashed.')\n",
    "    pass"
   ]
  },
  {
   "cell_type": "code",
   "execution_count": 1,
   "metadata": {
    "collapsed": true
   },
   "outputs": [
    {
     "ename": "NameError",
     "evalue": "name 'analysis_type' is not defined",
     "output_type": "error",
     "traceback": [
      "\u001b[1;31m---------------------------------------------------------------------------\u001b[0m",
      "\u001b[1;31mNameError\u001b[0m                                 Traceback (most recent call last)",
      "\u001b[1;32m<ipython-input-1-4b082cebdc04>\u001b[0m in \u001b[0;36m<module>\u001b[1;34m\u001b[0m\n\u001b[0;32m     20\u001b[0m \u001b[1;33m\u001b[0m\u001b[0m\n\u001b[0;32m     21\u001b[0m \u001b[1;31m# define analysis_function which accepts image filepath and returns dictionary of {analyzed_var_name:analysis_value}\u001b[0m\u001b[1;33m\u001b[0m\u001b[1;33m\u001b[0m\u001b[1;33m\u001b[0m\u001b[0m\n\u001b[1;32m---> 22\u001b[1;33m \u001b[1;32mif\u001b[0m \u001b[0manalysis_type\u001b[0m \u001b[1;33m==\u001b[0m \u001b[1;34m'fake analysis'\u001b[0m\u001b[1;33m:\u001b[0m\u001b[1;33m\u001b[0m\u001b[1;33m\u001b[0m\u001b[0m\n\u001b[0m\u001b[0;32m     23\u001b[0m     \u001b[1;32mfrom\u001b[0m \u001b[0mrandom\u001b[0m \u001b[1;32mimport\u001b[0m \u001b[0mrandint\u001b[0m\u001b[1;33m\u001b[0m\u001b[1;33m\u001b[0m\u001b[0m\n\u001b[0;32m     24\u001b[0m     \u001b[1;32mdef\u001b[0m \u001b[0manalysis_function\u001b[0m\u001b[1;33m(\u001b[0m\u001b[0mfilepath\u001b[0m\u001b[1;33m)\u001b[0m\u001b[1;33m:\u001b[0m\u001b[1;33m\u001b[0m\u001b[1;33m\u001b[0m\u001b[0m\n",
      "\u001b[1;31mNameError\u001b[0m: name 'analysis_type' is not defined"
     ]
    }
   ],
   "source": [
    "# breadboard_repo_path =  r'D:\\Fermidata1\\enrico\\breadboard-python-client\\\\'\n",
    "#loading takes a while, don't run this if testing\n",
    "# print('loading matlab engine...')\n",
    "# import matlab.engine\n",
    "# eng = matlab.engine.start_matlab()\n",
    "# print('matlab engine loaded')\n",
    "\n",
    "# import ipywidgets as widgets\n",
    "# from ipywidgets import interact\n",
    "# from measurement_directory import *\n",
    "# import sys\n",
    "# sys.path.insert(0, breadboard_repo_path)\n",
    "# from breadboard import BreadboardClient\n",
    "# bc = BreadboardClient(config_path='API_CONFIG_fermi1.json') # enter your path to the API_config\n",
    "# import os\n",
    "# import time\n",
    "# import datetime\n",
    "# import shutil\n",
    "# import warnings\n",
    "# import enrico_bot\n",
    "# from image_watchdog import getFileList\n",
    "\n",
    "# # import pandas as pd\n",
    "# # from numpy import isnan\n",
    "# # analysis_type = 'fake analysis'\n",
    "\n",
    "# # define analysis_function which accepts image filepath and returns dictionary of {analyzed_var_name:analysis_value}\n",
    "# if analysis_type == 'fake analysis':\n",
    "#     from random import randint\n",
    "#     def analysis_function(filepath):\n",
    "#         time.sleep(randint(0,2))\n",
    "#         return {'fake analysis 1': randint(0,42), 'fake analysis 2': randint(0,42)}\n",
    "#     analyzed_var_names = ['fake analysis 1', 'fake analysis 2']\n",
    "# elif analysis_type == 'fake analysis 2':\n",
    "#     from random import randint\n",
    "#     def analysis_function(filepath):\n",
    "#         time.sleep(randint(0,5))\n",
    "#         return {'fake analysis 3': randint(0,42), 'fake analysis 4': randint(0,42)}\n",
    "#     analyzed_var_names = ['fake analysis 3', 'fake analysis 4']\n",
    "# elif analysis_type == 'ycam':\n",
    "#     analyzed_var_names = ['bareNcntAverageMarqueeBoxValues', \n",
    "#                           'COMX', 'COMY'] #TODO set MATLAB analyzed_var_names properly\n",
    "#     from matlab_wrapper import getYcamAnalysis\n",
    "#     def analysis_function(filepath, previous_settings = None):\n",
    "#         if previous_settings is None:\n",
    "#             matlab_dict = getYcamAnalysis(eng, filepath)\n",
    "#         else:\n",
    "# #             print('previous settings: ' + previous_settings)\n",
    "# #             return {'fakematlab1': randint(0,42), 'fakematlab2': randint(0,42)}, 'foo1'\n",
    "#             matlab_dict = getYcamAnalysis(eng, filepath, marqueeBox = previous_settings['marqueeBox'],\n",
    "#                                            normBox = previous_settings['normBox'])\n",
    "#         analysis_dict, settings = matlab_dict['analysis'], matlab_dict['settings']\n",
    "#         return analysis_dict, settings\n",
    "# elif analysis_type == 'zcam_dual_imaging':\n",
    "#     analyzed_var_names = ['K_bareNcntAverageMarqueeBoxValues', 'Na_bareNcntAverageMarqueeBoxValues',\n",
    "#                           'Na_COMX', 'Na_COMY'] #TODO set MATLAB analyzed_var_names properly\n",
    "#     from dual_imaging_wrapper import getDualImagingAnalysis\n",
    "#     def analysis_function(filepath, previous_settings = None):\n",
    "#         if previous_settings is None:\n",
    "#             matlab_dict = getDualImagingAnalysis(eng, filepath)\n",
    "# #         else:\n",
    "# #             matlab_dict = getMATLABanalysis(eng, filepath, marqueeBox = previous_settings['marqueeBox'],\n",
    "# #                                            normBox = previous_settings['normBox'])\n",
    "#         analysis_dict = matlab_dict['analysis']\n",
    "#         settings = None\n",
    "#         return analysis_dict, settings \n",
    "\n",
    "# warnings.filterwarnings(\n",
    "#     \"ignore\", \"Your application has authenticated using end user credentials\")\n",
    "# warnings.filterwarnings(\n",
    "#     \"ignore\", \"Could not find appropriate MS Visual C Runtime\")\n",
    "# bc = BreadboardClient(config_path='API_CONFIG_fermi1.json')\n",
    "\n",
    "# def analyze_image(image_filename, previous_settings = None, output_previous_settings = True):\n",
    "#     #TODO adapt for triple imaging later\n",
    "#     abs_image_path = os.path.join(os.path.join(os.getcwd(), watchfolder), image_filename)\n",
    "#     settings = None\n",
    "#     print('{file} analyzing: '.format(file=image_filename))\n",
    "#     if analysis_type == 'fake analysis' or analysis_type == 'fake analysis 2':\n",
    "#         analysis_dict = analysis_function(image_filename)\n",
    "#     elif (analysis_type == 'ycam' or analysis_type == 'zcam_dual_imaging') and previous_settings is None:\n",
    "#         analysis_dict, settings = analysis_function(abs_image_path)#no marquee box yet\n",
    "#     elif (analysis_type == 'ycam' or analysis_type == 'zcam_dual_imaging'):\n",
    "#         analysis_dict, settings = analysis_function(abs_image_path, previous_settings)\n",
    "#     if not output_previous_settings:\n",
    "#         settings = None #forces user to select new marquee box for each shot\n",
    "#     for key in analyzed_var_names:\n",
    "#         print(key, analysis_dict[key])\n",
    "#     return analysis_dict, settings\n",
    "\n",
    "# def main():\n",
    "#     # Global settings\n",
    "#     refresh_time = 1  # seconds\n",
    "#     previous_settings = None\n",
    "#     print(\"\\n\\n Watching this folder for changes: \" + watchfolder + \"\\n\\n\")\n",
    "#     unanalyzed_files = []\n",
    "#     done_files = []\n",
    "#     append_mode = True\n",
    "\n",
    "#     # Main Loop\n",
    "#     while True:\n",
    "#         if not os.path.exists(watchfolder):\n",
    "#             time.sleep(refresh_time)\n",
    "#             continue\n",
    "#         else:\n",
    "#             files, _ = getFileList(watchfolder)\n",
    "#             fresh_files = sorted(list(set(files).difference(set(done_files)).difference(set(unanalyzed_files))))\n",
    "#             unanalyzed_files += fresh_files #push newest files to top of stack\n",
    "        \n",
    "#         for file in reversed(unanalyzed_files): #start from top of stack\n",
    "#             run_id = run_id_from_filename(file)\n",
    "#             if append_mode:\n",
    "#                 run_dict = bc._send_message('get', '/runs/' + str(run_id) + '/').json()\n",
    "#                 if set(analyzed_var_names).issubset(set(run_dict.keys())):\n",
    "#                     popped_file = [unanalyzed_files.pop()]\n",
    "#                     done_files += popped_file\n",
    "#                     continue\n",
    "#             analysis_dict, previous_settings = analyze_image(file, previous_settings)\n",
    "#             resp = bc.append_analysis_to_run(run_id, analysis_dict)\n",
    "#             popped_file = [unanalyzed_files.pop()]\n",
    "#             done_files += popped_file\n",
    "#             print('\\n')\n",
    "\n",
    "#         time.sleep(refresh_time)\n",
    "# # try:\n",
    "# #     main()\n",
    "# # except:\n",
    "# #     enrico_bot.post_message('analysis crashed, restart it.')\n",
    "# #     pass\n",
    "\n",
    "\n",
    "# def set_analysis_type(analysis_mode):\n",
    "#     global analysis_type\n",
    "#     analysis_type = analysis_mode\n",
    "#     print('analysis mode is {a_type} \\n'.format(a_type = analysis_type))\n",
    "\n",
    "# mode_select_widget = interact(set_analysis_type,analysis_mode=['fake analysis' , 'fake analysis 2', 'ycam', 'zcam_dual_imaging'])\n",
    "# measurement_menu = widgets.Dropdown(options = todays_measurements(),\n",
    "#                                    description = 'today\\'s measurements' )\n",
    "# load_measurement_button = widgets.Button(description = 'select measurement')\n",
    "# def load_measurement(button):\n",
    "#     global watchfolder\n",
    "#     watchfolder = measurement_directory(measurement_name = measurement_menu.value)\n",
    "#     print(watchfolder)\n",
    "#     main()\n",
    "# load_measurement_button.on_click(load_measurement)\n",
    "# widgets.HBox([measurement_menu, load_measurement_button])"
   ]
  },
  {
   "cell_type": "code",
   "execution_count": null,
   "metadata": {},
   "outputs": [],
   "source": []
  }
 ],
 "metadata": {
  "kernelspec": {
   "display_name": "Python 3",
   "language": "python",
   "name": "python3"
  },
  "language_info": {
   "codemirror_mode": {
    "name": "ipython",
    "version": 3
   },
   "file_extension": ".py",
   "mimetype": "text/x-python",
   "name": "python",
   "nbconvert_exporter": "python",
   "pygments_lexer": "ipython3",
   "version": "3.7.6"
  }
 },
 "nbformat": 4,
 "nbformat_minor": 4
}
