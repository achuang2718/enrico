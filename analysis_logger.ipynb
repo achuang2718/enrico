{
 "cells": [
  {
   "cell_type": "markdown",
   "metadata": {},
   "source": [
    "## Select the analysis mode from the dropdown menu below."
   ]
  },
  {
   "cell_type": "code",
   "execution_count": 1,
   "metadata": {},
   "outputs": [
    {
     "data": {
      "application/vnd.jupyter.widget-view+json": {
       "model_id": "d3c2e42722624baf800594639ac1493c",
       "version_major": 2,
       "version_minor": 0
      },
      "text/plain": [
       "interactive(children=(Dropdown(description='analysis_mode', options=('fake analysis', 'fake analysis 2', 'MATL…"
      ]
     },
     "metadata": {},
     "output_type": "display_data"
    }
   ],
   "source": [
    "import ipywidgets as widgets\n",
    "from ipywidgets import interact\n",
    "from measurement_directory import *\n",
    "\n",
    "def set_analysis_type(analysis_mode):\n",
    "    global analysis_type\n",
    "    analysis_type = analysis_mode\n",
    "    print('analysis mode is {a_type} \\n'.format(a_type = analysis_type))\n",
    "\n",
    "mode_select_widget = interact(set_analysis_type,analysis_mode=['fake analysis' , 'fake analysis 2', 'MATLAB'])"
   ]
  },
  {
   "cell_type": "markdown",
   "metadata": {},
   "source": [
    "## Enter the run from today you wish to analyze."
   ]
  },
  {
   "cell_type": "code",
   "execution_count": 2,
   "metadata": {},
   "outputs": [
    {
     "name": "stdout",
     "output_type": "stream",
     "text": [
      "Enter name for this set of runs:test\n"
     ]
    }
   ],
   "source": [
    "global watchfile\n",
    "measurement_dir = measurement_directory()\n",
    "watchfile = measurement_dir + r'\\image_log.csv'"
   ]
  },
  {
   "cell_type": "markdown",
   "metadata": {},
   "source": [
    "## Run the cell below to begin analyzing.\n",
    "\n",
    "Check the output; it will update as images are analyzed.\n",
    "\n",
    "To stop the analysis, press the interrupt kernel/stop button at the very top. You can restart the analysis by simply running the cell below again. The console output will be cleared, but not to worry, it's all in the log file."
   ]
  },
  {
   "cell_type": "code",
   "execution_count": 3,
   "metadata": {},
   "outputs": [
    {
     "name": "stdout",
     "output_type": "stream",
     "text": [
      "loading matlab engine...\n",
      "matlab engine loaded\n"
     ]
    }
   ],
   "source": [
    "print('loading matlab engine...')\n",
    "import matlab.engine\n",
    "eng = matlab.engine.start_matlab()\n",
    "print('matlab engine loaded')"
   ]
  },
  {
   "cell_type": "code",
   "execution_count": null,
   "metadata": {},
   "outputs": [
    {
     "name": "stdout",
     "output_type": "stream",
     "text": [
      "\n",
      "\n",
      " Watching this file for changes: 08\\200805\\test\\image_log.csv\n",
      "\n",
      "\n",
      "C:\\Users\\FermiCam2\\Desktop\\GitHub\\enrico\\08\\200805\\test\\test_232.spe\n",
      "test_232.spe analyzing: \n",
      "bareNcntAverageMarqueeBoxValues 14237.598396278563\n",
      "COMX 151.50631366276474\n",
      "COMY 187.34559018470696\n",
      "test_232.spe analyzed: {'bareNcntValues': matlab.double([]), 'bareNcntAverageMarqueeBoxValues': 14237.598396278563, 'fitBimodal': {'parameterNames': ['Amp BEC', 'Amp Therm:BEC ratio', 'Offset', 'BEC ratio width', 'Therm width', 'xBEC', 'xTherm'], 'xparam': matlab.double([[0.2933384223477066,0.6428125570470216,0.0021437355969993847,64.02340066659956,74.50414814962296,148.3750992393326,153.87599418188748]]), 'yparam': matlab.double([[0.2867874807419313,0.5558473299321232,-0.0004718147876813584,71.10284386196332,110.43665995961544,181.94937573150344,191.627581369523]]), 'xci': matlab.double([[[0.2693420925812517,0.518924374031755,-0.0030827796201138118,62.61616061574958,68.31303140696674,147.78205479824632,152.56157310668692],[0.31733475211416146,0.7667007400622882,0.007370250814112581,65.43064071744953,80.69526489227918,148.96814368041888,155.19041525708803]]]), 'yci': matlab.double([[[0.26653106375542257,0.4724966643662888,-0.014341350207089432,68.76987445237626,94.0757310918828,181.0246926584613,188.80396945800922],[0.30704389772844,0.6391979954979575,0.013397720631726714,73.43581327155039,126.79758882734808,182.87405880454557,194.45119328103678]]])}, 'COMX': 151.50631366276474, 'COMY': 187.34559018470696, 'fitBimodalExcludeCenter': {'parameterNames': ['amplitude', 'width', 'position'], 'xparam': matlab.double([[0.26769791056608017,62.648599357834215,148.44078050630543]]), 'yparam': matlab.double([[0.27707169458340053,70.09571751432243,181.91103505424238]]), 'xci': matlab.double([[[0.26596242130057196,0.26943339983158837],[62.24244580808665,63.05475290758178],[148.23770464217296,148.6438563704379]]]), 'yci': matlab.double([[[0.27414909154625805,0.279994297620543],[69.35633353818847,70.8351014904564],[181.5413438223304,182.28072628615436]]]), 'GaussianWingsX': matlab.double([[0.21235179150139974,0.004280207840662059,70.35609292755528,152.63636156121737]]), 'GaussianWingsY': matlab.double([[0.16795602039840574,0.0009436295633409089,106.5913657358321,190.7958651598847]]), 'GaussianWingsXci': matlab.double([[[0.20442174619194936,0.22028183681085012],[0.003105382492924331,0.005455033188399788],[68.86101036478148,71.85117549032908],[152.31311672318526,152.95960639924948]]]), 'GaussianWingsYci': matlab.double([[[0.16128243704687778,0.1746296037499337],[-0.0037974120873575344,0.005684671214039353],[100.84192783804009,112.3408036336241],[189.78450986053858,191.80722045923082]]])}}\n",
      "C:\\Users\\FermiCam2\\Desktop\\GitHub\\enrico\\08\\200805\\test\\test_233.spe\n",
      "test_233.spe analyzing: \n",
      "bareNcntAverageMarqueeBoxValues 14082.346516838523\n",
      "COMX 155.20088390099727\n",
      "COMY 193.13507162573063\n",
      "test_233.spe analyzed: {'bareNcntValues': matlab.double([]), 'bareNcntAverageMarqueeBoxValues': 14082.346516838523, 'fitBimodal': {'parameterNames': ['Amp BEC', 'Amp Therm:BEC ratio', 'Offset', 'BEC ratio width', 'Therm width', 'xBEC', 'xTherm'], 'xparam': matlab.double([[0.325270460824282,0.505150417688821,0.00024150369242097628,66.7537711270467,76.26637523185316,150.94116937315337,158.66655867695135]]), 'yparam': matlab.double([[0.30617547874495,0.5278812543761597,-0.004076165563254151,70.72712763339781,108.13531753866694,189.63918015820997,196.5568431461673]]), 'xci': matlab.double([[[0.29960319379240047,0.3960491100367943,-0.005578886357153715,65.36988151625935,68.44568395453936,150.28447551158075,156.91221931700903],[0.35093772785616356,0.6142517253408476,0.006061893741995668,68.13766073783405,84.08706650916696,151.597863234726,160.42089803689367]]]), 'yci': matlab.double([[[0.28685536086274516,0.4521547813919263,-0.015312565412181027,68.69426901351217,94.37478208517811,188.87011101896894,194.0602529371819],[0.3254955966271548,0.6036077273603931,0.007160234285672725,72.75998625328346,121.89585299215577,190.408249297451,199.0534333551527]]])}, 'COMX': 155.20088390099727, 'COMY': 193.13507162573063, 'fitBimodalExcludeCenter': {'parameterNames': ['amplitude', 'width', 'position'], 'xparam': matlab.double([[0.317547749599537,66.3427353158229,151.014715009264]]), 'yparam': matlab.double([[0.28841926937975987,69.19008552853063,189.48039294260624]]), 'xci': matlab.double([[[0.3157488853371006,0.31934661386197344],[65.9669116963252,66.71855893532062],[150.82680377536542,151.20262624316257]]]), 'yci': matlab.double([[[0.28570591888664065,0.2911326198728791],[68.53917082510684,69.84100023195442],[189.154934527736,189.80585135747648]]]), 'GaussianWingsX': matlab.double([[0.17177996102110976,0.0004830071887875004,74.92892021957202,157.84726791343994]]), 'GaussianWingsY': matlab.double([[0.17626551527202866,-0.00044489992668632437,100.7498306805244,196.175301860086]]), 'GaussianWingsXci': matlab.double([[[0.16394539793929216,0.17961452410292736],[-0.0010574547957611395,0.00202346917333614],[72.73278481352489,77.12505562561915],[157.36552234200835,158.32901348487152]]]), 'GaussianWingsYci': matlab.double([[[0.17048363879750075,0.18204739174655657],[-0.003181782273768167,0.0022919824203955184],[97.27144206502591,104.22821929602289],[195.48088551120293,196.86971820896906]]])}}\n",
      "C:\\Users\\FermiCam2\\Desktop\\GitHub\\enrico\\08\\200805\\test\\test_234.spe\n",
      "test_234.spe analyzing: \n",
      "bareNcntAverageMarqueeBoxValues 13603.752416291029\n",
      "COMX 156.03059692084435\n",
      "COMY 195.41786634439396\n",
      "test_234.spe analyzed: {'bareNcntValues': matlab.double([]), 'bareNcntAverageMarqueeBoxValues': 13603.752416291029, 'fitBimodal': {'parameterNames': ['Amp BEC', 'Amp Therm:BEC ratio', 'Offset', 'BEC ratio width', 'Therm width', 'xBEC', 'xTherm'], 'xparam': matlab.double([[0.33526978375664157,0.45986736982971227,-0.0029191066027138336,66.25073483274943,77.66111022725303,150.39974000860212,160.9030347476897]]), 'yparam': matlab.double([[0.30046998754159177,0.5342567500546673,-0.004376076367130481,69.77105153936841,105.61739671165107,192.59179106572176,198.24230155158006]]), 'xci': matlab.double([[[0.3131391689660969,0.3718634698514679,-0.008761310810979792,64.94546912455155,69.84366291295646,149.7321114951388,158.93444334111433],[0.35740039854718625,0.5478712698079566,0.002923097605552124,67.55600054094731,85.4785575415496,151.06736852206544,162.87162615426507]]]), 'yci': matlab.double([[[0.2780689711788997,0.4421039233236868,-0.016065154895322148,67.41189053225672,90.79209565249997,191.7124496983718,195.4207042965039],[0.3228710039042838,0.6264095767856479,0.007313002161061187,72.13021254648011,120.44269777080217,193.47113243307172,201.0638988066562]]])}, 'COMX': 156.03059692084435, 'COMY': 195.41786634439396, 'fitBimodalExcludeCenter': {'parameterNames': ['amplitude', 'width', 'position'], 'xparam': matlab.double([[0.336955766465087,66.4634184030563,150.46847740162897]]), 'yparam': matlab.double([[0.27949327543912517,67.9810941030103,192.4602758799829]]), 'xci': matlab.double([[[0.33512885060537895,0.3387826823247951],[66.1030656696482,66.82377113646439],[150.28830083154153,150.6486539717164]]]), 'yci': matlab.double([[[0.2763664545440743,0.282620096334176],[67.22055787819701,68.7416303278236],[192.08000785135022,192.8405439086156]]]), 'GaussianWingsX': matlab.double([[0.15169802848289968,-0.0023902521511981194,77.44111498302655,160.70978339581097]]), 'GaussianWingsY': matlab.double([[0.17811957357718358,-0.000471775176014196,97.49036978137457,197.7845331251567]]), 'GaussianWingsXci': matlab.double([[[0.14502577653494053,0.15837028043085882],[-0.004085646360463837,-0.000694857941932402],[74.98213657763094,79.90009338842216],[160.09671088886014,161.3228559027618]]]), 'GaussianWingsYci': matlab.double([[[0.16974110438515616,0.186498042769211],[-0.003780664918187202,0.00283711456615881],[93.1406024743246,101.84013708842454],[196.8721647506968,198.69690149961662]]])}}\n",
      "C:\\Users\\FermiCam2\\Desktop\\GitHub\\enrico\\08\\200805\\test\\test_235.spe\n",
      "test_235.spe analyzing: \n",
      "bareNcntAverageMarqueeBoxValues 13205.533507952972\n",
      "COMX 156.16857245458667\n",
      "COMY 191.74971989781852\n",
      "test_235.spe analyzed: {'bareNcntValues': matlab.double([]), 'bareNcntAverageMarqueeBoxValues': 13205.533507952972, 'fitBimodal': {'parameterNames': ['Amp BEC', 'Amp Therm:BEC ratio', 'Offset', 'BEC ratio width', 'Therm width', 'xBEC', 'xTherm'], 'xparam': matlab.double([[0.33136328727256326,0.397924186803148,0.0001715749993850576,67.69996164662211,79.40702619707824,153.32908295014383,157.09787868997162]]), 'yparam': matlab.double([[0.29657425879374205,0.49450663222385705,-0.0015776357808872327,69.27119047923703,106.76442156857003,186.43565865600857,197.14149499805833]]), 'xci': matlab.double([[[0.3034794793320193,0.2939452174426299,-0.006942450270287882,66.24946042506537,67.72090217234522,152.76397583238466,155.037361567151],[0.3592470952131072,0.5019031561636661,0.007285600269057996,69.15046286817886,91.09315022181126,153.894190067903,159.15839581279224]]]), 'yci': matlab.double([[[0.28004554397411574,0.4276964733771912,-0.011238450164223326,67.3952814648562,93.97567065832769,185.67396971589324,194.50282484685735],[0.31310297361336836,0.5613167910705229,0.008083178602448862,71.14709949361787,119.55317247881237,187.1973475961239,199.78016514925932]]])}, 'COMX': 156.16857245458667, 'COMY': 191.74971989781852, 'fitBimodalExcludeCenter': {'parameterNames': ['amplitude', 'width', 'position'], 'xparam': matlab.double([[0.33525265492878076,68.0315194758685,153.44664217317347]]), 'yparam': matlab.double([[0.2756716807160179,67.47988836878802,186.1473783691918]]), 'xci': matlab.double([[[0.3334396579125978,0.33706565194496374],[67.66361530952165,68.39942364221537],[153.26268994359424,153.6305944027527]]]), 'yci': matlab.double([[[0.2730863433579665,0.2782570180740693],[66.84704020143523,68.11273653614082],[185.83095435314303,186.4638023852406]]]), 'GaussianWingsX': matlab.double([[0.12750736954178304,0.000343148545217562,79.91593896213614,156.6218876653918]]), 'GaussianWingsY': matlab.double([[0.16401933072953442,0.0025365845251849183,97.68305664750262,196.29455779554544]]), 'GaussianWingsXci': matlab.double([[[0.1169840850001072,0.1380306540834589],[-0.002433289264710684,0.0031195863551458074],[74.9100287527725,84.92184917149977],[155.79199700081958,157.45177832996401]]]), 'GaussianWingsYci': matlab.double([[[0.15931255618960596,0.16872610526946288],[0.0004905732756055026,0.004582595774764334],[94.9063877978025,100.45972549720275],[195.65139916964787,196.937716421443]]])}}\n"
     ]
    }
   ],
   "source": [
    "import os\n",
    "import time\n",
    "import datetime\n",
    "import shutil\n",
    "import posixpath\n",
    "import sys\n",
    "# from breadboard import BreadboardClient\n",
    "import warnings\n",
    "import pandas as pd\n",
    "from numpy import isnan\n",
    "import ipywidgets as widgets\n",
    "from ipywidgets import interact\n",
    "\n",
    "\n",
    "# analysis_type = 'fake analysis'\n",
    "\n",
    "# define analysis_function which accepts image filepath and returns dictionary of {analyzed_var_name:analysis_value}\n",
    "if analysis_type == 'fake analysis':\n",
    "    from random import randint\n",
    "    def analysis_function(filepath):\n",
    "        time.sleep(randint(0,5))\n",
    "        return {'fake analysis 1': randint(0,42), 'fake analysis 2': randint(0,42)}\n",
    "    analyzed_var_names = ['fake analysis 1', 'fake analysis 2']\n",
    "elif analysis_type == 'fake analysis 2':\n",
    "    from random import randint\n",
    "    def analysis_function(filepath):\n",
    "        time.sleep(randint(0,5))\n",
    "        return {'fake analysis 3': randint(0,42), 'fake analysis 4': randint(0,42)}\n",
    "    analyzed_var_names = ['fake analysis 3', 'fake analysis 4']\n",
    "elif analysis_type == 'MATLAB':\n",
    "    analyzed_var_names = ['bareNcntAverageMarqueeBoxValues', \n",
    "                          'COMX', 'COMY'] #TODO set MATLAB analyzed_var_names properly\n",
    "    from matlab_wrapper import getMATLABanalysis\n",
    "#     from random import randint\n",
    "    def analysis_function(filepath, previous_settings = None):\n",
    "        if previous_settings is None:\n",
    "#             print('no previous settings')\n",
    "#             return {'fakematlab1': randint(0,42), 'fakematlab2': randint(0,42)}, 'foo'\n",
    "            matlab_dict = getMATLABanalysis(eng, filepath)\n",
    "        else:\n",
    "#             print('previous settings: ' + previous_settings)\n",
    "#             return {'fakematlab1': randint(0,42), 'fakematlab2': randint(0,42)}, 'foo1'\n",
    "            matlab_dict = getMATLABanalysis(eng, filepath, marqueeBox = previous_settings['marqueeBox'],\n",
    "                                           normBox = previous_settings['normBox'])\n",
    "        analysis_dict, settings = matlab_dict['analysis'], matlab_dict['settings']\n",
    "        return analysis_dict, settings\n",
    "\n",
    "warnings.filterwarnings(\n",
    "    \"ignore\", \"Your application has authenticated using end user credentials\")\n",
    "warnings.filterwarnings(\n",
    "    \"ignore\", \"Could not find appropriate MS Visual C Runtime\")\n",
    "# bc = BreadboardClient(config_path='API_CONFIG_fermi1.json')\n",
    "\n",
    "def translate_stringy_list(stringy_list):\n",
    "    #pd.read_csv imports listboundvariables dtype as a string, we want it in list form\n",
    "    final_list = []\n",
    "    stringy_list = stringy_list.split(',')\n",
    "    for var in stringy_list:\n",
    "        final_list.append(var.translate({ord(c): None for c in '[ ]\\,\\''}))\n",
    "    return final_list\n",
    "\n",
    "def analysis_to_imagelog(image_log_df, idx, outputlog_filename, previous_settings = None,\n",
    "                        output_previous_settings = True):\n",
    "    image_filename = image_log_df.loc[idx, 'filename0']\n",
    "    abs_image_path = os.path.join(os.path.join(os.getcwd(), measurement_dir), image_filename)\n",
    "    print(abs_image_path)\n",
    "    settings = None\n",
    "    if analysis_type == 'fake analysis' or analysis_type == 'fake analysis 2':\n",
    "        analysis_dict = analysis_function(image_filename)\n",
    "    elif analysis_type == 'MATLAB' and previous_settings is None:\n",
    "        analysis_dict, settings = analysis_function(abs_image_path)#no marquee box yet\n",
    "    elif analysis_type == 'MATLAB':\n",
    "        analysis_dict, settings = analysis_function(abs_image_path, previous_settings)\n",
    "    if not output_previous_settings:\n",
    "        settings = None #forces user to select new marquee box for each shot\n",
    "    image_log_df = pd.read_csv(outputlog_filename) #get updated copy of log to prevent overwriting\n",
    "    print('{file} analyzing: '.format(file=image_filename))\n",
    "    for key in analyzed_var_names:\n",
    "        print(key, analysis_dict[key])\n",
    "        image_log_df.loc[idx,key] = analysis_dict[key]\n",
    "    image_log_df.to_csv(outputlog_filename, index = False)\n",
    "#     print('{file} analyzed: '.format(file=image_filename) + str(analysis_dict))\n",
    "    return image_log_df, settings\n",
    "\n",
    "def main():\n",
    "    # Global settings\n",
    "    # bc = BreadboardClient(config_path='API_CONFIG.json') # enter your path to the API_config\n",
    "    refresh_time = 1  # seconds\n",
    "    global watchfile\n",
    "    previous_settings = None\n",
    "#     watchfile = r'07\\200729\\foo\\image_log.csv'\n",
    "    print(\"\\n\\n Watching this file for changes: \" + watchfile + \"\\n\\n\")\n",
    "\n",
    "#     length_old = 0\n",
    "\n",
    "    # Main Loop\n",
    "    while True:\n",
    "        if not os.path.exists(watchfile):\n",
    "            time.sleep(refresh_time)\n",
    "            continue\n",
    "        else:\n",
    "            image_log_df = pd.read_csv(watchfile)\n",
    "\n",
    "        for var_name in analyzed_var_names:\n",
    "            if var_name not in image_log_df.columns: #start new analysis type\n",
    "#             print('{analysis} analysis started'.format(analysis = analysis_type))\n",
    "                image_log_df, previous_settings = analysis_to_imagelog(image_log_df, 0, watchfile, previous_settings)\n",
    "                if 'analyzed_variables' not in image_log_df.columns:\n",
    "                    image_log_df.loc[0,'analyzed_variables'] = str(analyzed_var_names)\n",
    "                    image_log_df.to_csv(watchfile, index = False)\n",
    "                else:\n",
    "                    old_analyzed_variables = set(translate_stringy_list(image_log_df.loc[0,'analyzed_variables']))\n",
    "                    updated_analyzed_variables = list(old_analyzed_variables.union(set(analyzed_var_names)))\n",
    "                    image_log_df.loc[0,'analyzed_variables'] = str(updated_analyzed_variables)\n",
    "                    image_log_df.to_csv(watchfile, index = False)\n",
    "            else: #queue un-analyzed images\n",
    "                for idx in reversed(range(len(image_log_df.index))): #start from most recent image first\n",
    "                    if isnan(image_log_df.loc[idx, var_name]):\n",
    "                        image_log_df, previous_settings = analysis_to_imagelog(image_log_df, idx, watchfile, previous_settings)\n",
    "                        if isinstance(image_log_df.loc[idx,'analyzed_variables'],float):\n",
    "                            image_log_df.loc[idx,'analyzed_variables'] = str(analyzed_var_names)\n",
    "                            image_log_df.to_csv(watchfile, index = False)\n",
    "                        else:\n",
    "                            old_analyzed_variables = set(translate_stringy_list(image_log_df.loc[idx,'analyzed_variables']))\n",
    "                            updated_analyzed_variables = list(old_analyzed_variables.union(set(analyzed_var_names)))\n",
    "                            image_log_df.loc[idx,'analyzed_variables'] = str(updated_analyzed_variables)\n",
    "                            image_log_df.to_csv(watchfile, index = False)\n",
    "\n",
    "    # check if a new image has come in\n",
    "#         if len(image_log_df.index) > length_old:\n",
    "#             image_filename = image_log_df.loc[len(\n",
    "#                 image_log_df.index) - 1, 'filename']\n",
    "#             print('New image: ' + image_filename + '. Analyzing now...')\n",
    "#             analysis_variable = analysis_function(image_filename)\n",
    "#             image_log_df.loc[len(image_log_df.index) - 1,\n",
    "#                              analysis_type] = analysis_variable\n",
    "#             image_log_df.to_csv('image_log.csv', index = False)\n",
    "#             print('analysis value ' + str(analysis_variable))\n",
    "\n",
    "            # # Write to Breadboard\n",
    "            # try:\n",
    "            #     resp = bc.post_images(\n",
    "            #                 image_names = os.path.splitext(output_filename)[0],\n",
    "            #                 filepath = output_filepath,\n",
    "            #                 image_times = [dt],\n",
    "            #                 auto_time = False # Add more information here\n",
    "            #                 )\n",
    "            #     if resp.status_code!=200:\n",
    "            #         print(resp.text)\n",
    "            # except: pass\n",
    "            # names_old = names\n",
    "#             length_old = len(image_log_df.index)\n",
    "\n",
    "        # Wait before checking again\n",
    "        time.sleep(refresh_time)\n",
    "\n",
    "main()"
   ]
  },
  {
   "cell_type": "code",
   "execution_count": 9,
   "metadata": {},
   "outputs": [],
   "source": [
    "import matlab_wrapper_debug"
   ]
  },
  {
   "cell_type": "code",
   "execution_count": null,
   "metadata": {},
   "outputs": [],
   "source": []
  }
 ],
 "metadata": {
  "kernelspec": {
   "display_name": "Python 3",
   "language": "python",
   "name": "python3"
  },
  "language_info": {
   "codemirror_mode": {
    "name": "ipython",
    "version": 3
   },
   "file_extension": ".py",
   "mimetype": "text/x-python",
   "name": "python",
   "nbconvert_exporter": "python",
   "pygments_lexer": "ipython3",
   "version": "3.7.6"
  }
 },
 "nbformat": 4,
 "nbformat_minor": 4
}
