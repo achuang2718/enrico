{
 "cells": [
  {
   "cell_type": "markdown",
   "metadata": {},
   "source": [
    "## Select the data and run you would like to plot below:"
   ]
  },
  {
   "cell_type": "code",
   "execution_count": 1,
   "metadata": {},
   "outputs": [
    {
     "data": {
      "application/vnd.jupyter.widget-view+json": {
       "model_id": "6552b3eae49540148980609fc9e6ed49",
       "version_major": 2,
       "version_minor": 0
      },
      "text/plain": [
       "HBox(children=(Dropdown(description=\"today's measurements\", options=('run1_test',), value='run1_test'), Button…"
      ]
     },
     "metadata": {},
     "output_type": "display_data"
    },
    {
     "name": "stdout",
     "output_type": "stream",
     "text": [
      "08\\200814\\run1_test\n"
     ]
    }
   ],
   "source": [
    "breadboard_repo_path =  r'D:\\Fermidata1\\enrico\\breadboard-python-client\\\\'\n",
    "import sys\n",
    "sys.path.insert(0, breadboard_repo_path)\n",
    "from breadboard import BreadboardClient\n",
    "bc = BreadboardClient(config_path='API_CONFIG_fermi1.json') # enter your path to the API_config\n",
    "from measurement_directory import *\n",
    "import pandas as pd\n",
    "import matplotlib.pyplot as plt\n",
    "from matplotlib.animation import FuncAnimation\n",
    "import os\n",
    "import ipywidgets as widgets\n",
    "from image_watchdog import getFileList\n",
    "from jupyterthemes import jtplot\n",
    "jtplot.style()\n",
    "%matplotlib notebook\n",
    "\n",
    "def get_newest_df(watchfolder, optional_column_names = []):\n",
    "    files, _ = getFileList(watchfolder)\n",
    "    run_ids = [run_id_from_filename(file) for file in files]\n",
    "    return bc.get_runs_df_from_ids(run_ids, optional_column_names = optional_column_names)\n",
    "measurement_menu = widgets.Dropdown(options = todays_measurements(),\n",
    "                                   description = 'today\\'s measurements' )\n",
    "load_measurement_button = widgets.Button(description = 'select measurement')\n",
    "def load_measurement(button):\n",
    "    global watchfolder\n",
    "    watchfolder = measurement_directory(measurement_name = measurement_menu.value)\n",
    "    print(watchfolder)\n",
    "load_measurement_button.on_click(load_measurement)\n",
    "widgets.HBox([measurement_menu, load_measurement_button])"
   ]
  },
  {
   "cell_type": "code",
   "execution_count": 2,
   "metadata": {},
   "outputs": [
    {
     "data": {
      "application/vnd.jupyter.widget-view+json": {
       "model_id": "88eeb5025c104f7e927c54c3088ffe11",
       "version_major": 2,
       "version_minor": 0
      },
      "text/plain": [
       "Dropdown(description='horizontal', options=('run_id', 'badshot', 'notes', 'K_bareNcntAverageMarqueeBoxValues',…"
      ]
     },
     "metadata": {},
     "output_type": "display_data"
    },
    {
     "data": {
      "application/vnd.jupyter.widget-view+json": {
       "model_id": "ce43597a20f749e484b6c33fa20ab6b8",
       "version_major": 2,
       "version_minor": 0
      },
      "text/plain": [
       "Dropdown(description='vertical', options=('run_id', 'badshot', 'notes', 'K_bareNcntAverageMarqueeBoxValues', '…"
      ]
     },
     "metadata": {},
     "output_type": "display_data"
    },
    {
     "data": {
      "application/vnd.jupyter.widget-view+json": {
       "model_id": "eae80894d03140fb834539368ce646bf",
       "version_major": 2,
       "version_minor": 0
      },
      "text/plain": [
       "Button(description='add new plot', style=ButtonStyle())"
      ]
     },
     "metadata": {},
     "output_type": "display_data"
    },
    {
     "data": {
      "application/vnd.jupyter.widget-view+json": {
       "model_id": "b72db736f49c484e894f87c19267bfbe",
       "version_major": 2,
       "version_minor": 0
      },
      "text/plain": [
       "Button(description='clear plots', style=ButtonStyle())"
      ]
     },
     "metadata": {},
     "output_type": "display_data"
    }
   ],
   "source": [
    "x_params, y_params = [],[]\n",
    "column_names = get_newest_df(watchfolder).columns\n",
    "list_bound_vars, analyzed_vars = column_names, column_names\n",
    "xvars_menu = widgets.Dropdown(options = list_bound_vars, description = 'horizontal')\n",
    "yvars_menu = widgets.Dropdown(options = analyzed_vars, description = 'vertical')\n",
    "append_button = widgets.Button(description = 'add new plot')\n",
    "def update_vars(button):\n",
    "    x_params.append(xvars_menu.value)\n",
    "    y_params.append(yvars_menu.value)\n",
    "append_button.on_click(update_vars)\n",
    "clear_button = widgets.Button(description = 'clear plots')\n",
    "def clear_vars(button):\n",
    "    x_params.clear()\n",
    "    y_params.clear()\n",
    "clear_button.on_click(clear_vars)\n",
    "display(xvars_menu, yvars_menu, append_button, clear_button)"
   ]
  },
  {
   "cell_type": "markdown",
   "metadata": {},
   "source": [
    "## Run the cell below and rejoice as the data comes in! \n",
    "\n",
    "Sometimes the animation doesn't load on the first run. Just run the cell again."
   ]
  },
  {
   "cell_type": "code",
   "execution_count": null,
   "metadata": {
    "scrolled": false
   },
   "outputs": [],
   "source": [
    "%matplotlib notebook\n",
    "plt.style.use('seaborn')\n",
    "plt.figure(figsize = (5,2.5*len(x_params)))\n",
    "    \n",
    "def generate_subplots(watchfolder, x_params, y_params):\n",
    "    data = get_newest_df(watchfolder).query('badshot == False')\n",
    "    for i in range(len(x_params)):\n",
    "        plt.subplot(len(x_params),1,i+1)\n",
    "        x = data[x_params[i]]\n",
    "        y = data[y_params[i]]\n",
    "        plt.cla()\n",
    "        plt.plot(x, y, 'o')\n",
    "        plt.xlabel(x_params[i])\n",
    "        plt.ylabel(y_params[i])\n",
    "    plt.tight_layout()\n",
    "\n",
    "def animate(i):\n",
    "    if os.path.exists(watchfolder):\n",
    "        generate_subplots(watchfolder, x_params, y_params)\n",
    "    #         plt.legend(loc='upper left')\n",
    "        \n",
    "    else:\n",
    "        plt.plot(0,0)\n",
    "\n",
    "ani = FuncAnimation(plt.gcf(), animate, interval=1000)"
   ]
  },
  {
   "cell_type": "code",
   "execution_count": null,
   "metadata": {},
   "outputs": [],
   "source": [
    "plt.style.use('seaborn')\n",
    "plt.figure(figsize = (5,2.5*len(x_params)))\n",
    "generate_subplots(watchfolder, x_params, y_params)"
   ]
  },
  {
   "cell_type": "code",
   "execution_count": null,
   "metadata": {},
   "outputs": [],
   "source": []
  }
 ],
 "metadata": {
  "kernelspec": {
   "display_name": "Python 3",
   "language": "python",
   "name": "python3"
  },
  "language_info": {
   "codemirror_mode": {
    "name": "ipython",
    "version": 3
   },
   "file_extension": ".py",
   "mimetype": "text/x-python",
   "name": "python",
   "nbconvert_exporter": "python",
   "pygments_lexer": "ipython3",
   "version": "3.7.6"
  }
 },
 "nbformat": 4,
 "nbformat_minor": 2
}
