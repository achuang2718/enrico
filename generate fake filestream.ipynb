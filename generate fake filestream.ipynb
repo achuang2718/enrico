{
 "cells": [
  {
   "cell_type": "code",
   "execution_count": 1,
   "metadata": {},
   "outputs": [],
   "source": [
    "import pandas as pd\n",
    "import time"
   ]
  },
  {
   "cell_type": "code",
   "execution_count": 4,
   "metadata": {},
   "outputs": [],
   "source": [
    "def fake_filestream(num_files, refresh_time = 3): #outputs num_files new files every refresh_time\n",
    "    i = 0\n",
    "    while i < 30:\n",
    "        for j in range(num_files):\n",
    "            df = pd.DataFrame({'foo':[str(i) + str(j)]})\n",
    "            df.to_csv('images\\image' + str(i) + str(j) + '.csv')\n",
    "            time.sleep(0.3)\n",
    "        i = i + 1\n",
    "        time.sleep(refresh_time)\n",
    "\n",
    "fake_filestream(3)"
   ]
  },
  {
   "cell_type": "code",
   "execution_count": null,
   "metadata": {},
   "outputs": [],
   "source": []
  }
 ],
 "metadata": {
  "kernelspec": {
   "display_name": "Python 3",
   "language": "python",
   "name": "python3"
  },
  "language_info": {
   "codemirror_mode": {
    "name": "ipython",
    "version": 3
   },
   "file_extension": ".py",
   "mimetype": "text/x-python",
   "name": "python",
   "nbconvert_exporter": "python",
   "pygments_lexer": "ipython3",
   "version": "3.7.1"
  }
 },
 "nbformat": 4,
 "nbformat_minor": 2
}
