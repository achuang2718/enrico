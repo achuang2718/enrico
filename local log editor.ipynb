{
 "cells": [
  {
   "cell_type": "code",
   "execution_count": 11,
   "metadata": {},
   "outputs": [
    {
     "data": {
      "application/vnd.jupyter.widget-view+json": {
       "model_id": "f306ec2767d74cc9bb4abe5cdab41c44",
       "version_major": 2,
       "version_minor": 0
      },
      "text/plain": [
       "HBox(children=(Dropdown(description=\"today's measurements\", options=(), style=DescriptionStyle(description_wid…"
      ]
     },
     "metadata": {},
     "output_type": "display_data"
    }
   ],
   "source": [
    "# breadboard_repo_path =  r'D:\\Fermidata1\\enrico\\breadboard-python-client\\\\'\n",
    "breadboard_repo_path =  r'C:\\Users\\Alex\\Dropbox (MIT)\\lab side projects\\control software\\breadboard-python-client\\\\'\n",
    "import sys\n",
    "sys.path.insert(0, breadboard_repo_path)\n",
    "from breadboard import BreadboardClient\n",
    "bc = BreadboardClient(config_path='API_CONFIG_fermi1.json') # enter your path to the API_config\n",
    "from IPython.display import Image\n",
    "import ipywidgets as widgets\n",
    "import qgrid\n",
    "import pandas as pd\n",
    "import time\n",
    "import warnings\n",
    "from measurement_directory import *\n",
    "from numpy import nan\n",
    "from ipywidgets import interact\n",
    "import os\n",
    "from image_watchdog import getFileList\n",
    "import json\n",
    "import numpy as np\n",
    "\n",
    "def get_newest_df(watchfolder, optional_column_names = []):\n",
    "    files, _ = getFileList(watchfolder)\n",
    "    run_ids = [run_id_from_filename(file) for file in files]\n",
    "    return bc.get_runs_df_from_ids(run_ids, optional_column_names = optional_column_names)\n",
    "\n",
    "measurement_menu = widgets.Dropdown(options = todays_measurements(),\n",
    "                                   description = 'today\\'s measurements',\n",
    "                                   style = {'description_width': 'initial'})\n",
    "load_measurement_button = widgets.Button(description = 'select measurement')\n",
    "def load_measurement(button):\n",
    "    global watchfolder\n",
    "    watchfolder = measurement_directory(measurement_name = measurement_menu.value)\n",
    "    print(watchfolder)\n",
    "load_measurement_button.on_click(load_measurement)\n",
    "widgets.HBox([measurement_menu, load_measurement_button])"
   ]
  },
  {
   "cell_type": "markdown",
   "metadata": {},
   "source": [
    "## Run the next two cells to load the log from one of today's runs."
   ]
  },
  {
   "cell_type": "code",
   "execution_count": 9,
   "metadata": {},
   "outputs": [
    {
     "data": {
      "application/vnd.jupyter.widget-view+json": {
       "model_id": "94fdfc28020740c78ca18c11be6e51e2",
       "version_major": 2,
       "version_minor": 0
      },
      "text/plain": [
       "HBox(children=(Text(value='', description='editable column name', style=DescriptionStyle(description_width='in…"
      ]
     },
     "metadata": {},
     "output_type": "display_data"
    }
   ],
   "source": [
    "def edit_image_log(optional_column_names = []):\n",
    "    df = get_newest_df(watchfolder, optional_column_names = optional_column_names)\n",
    "#for testing\n",
    "#     df = bc.get_runs_df_from_ids([219153, 219151], \n",
    "#                                  optional_column_names = optional_column_names)\n",
    "    for column in optional_column_names:\n",
    "        if column not in df.columns:\n",
    "            df[column] = nan\n",
    "    \n",
    "    col_opts = { 'editable': False }\n",
    "    col_defs = {}\n",
    "    for col_name in optional_columns + ['badshot', 'notes']:\n",
    "        col_defs[col_name] = { 'editable': True }\n",
    "    col_defs['badshot']['ColumnWidth'] = 50\n",
    "    qgrid_widget = qgrid.show_grid(df, grid_options={'forceFitColumns': False, 'defaultColumnWidth': 100},\n",
    "                                  column_options=col_opts, column_definitions=col_defs)\n",
    "    return qgrid_widget\n",
    "\n",
    "def save_image_log(event, qgrid_widget):\n",
    "    row_idx = int(event['index'])\n",
    "    df = qgrid_widget.get_changed_df()\n",
    "    df_updated_row = df.loc[row_idx]\n",
    "    updated_row_dict = {}\n",
    "    for key in df_updated_row.index:\n",
    "        if key == 'notes':\n",
    "            continue\n",
    "        elif key == 'badshot':\n",
    "            updated_row_dict[key] = bool(df_updated_row.loc[key])\n",
    "        else:\n",
    "            if np.isnan(df_updated_row.loc[key]):\n",
    "                continue #don't upload nan's to breadboard\n",
    "            elif isinstance(df_updated_row.loc[key], np.integer):\n",
    "                updated_row_dict[key] = int(df_updated_row.loc[key])\n",
    "            elif isinstance(df_updated_row.loc[key], np.float):\n",
    "                updated_row_dict[key] = float(df_updated_row.loc[key])\n",
    "            else:\n",
    "                updated_row_dict[key] = df_updated_row.loc[key]\n",
    "    run_id = df_updated_row['run_id']\n",
    "    run_dict = bc._send_message(\n",
    "            'get', '/runs/' + str(run_id) + '/').json()\n",
    "    run_dict['notes'] = df_updated_row['notes']\n",
    "    run_dict['parameters'].update(updated_row_dict)\n",
    "    payload = json.dumps(run_dict)\n",
    "#     print(payload)\n",
    "    resp = bc._send_message('put', '/runs/' + str(run_id) + '/', data=payload)\n",
    "    qgrid_widget.close()\n",
    "    qgrid_widget = edit_image_log(optional_columns)\n",
    "    qgrid_widget.on('cell_edited',save_image_log)\n",
    "    display(qgrid_widget)\n",
    "\n",
    "# image_viewer = widgets.Output(layout={'border': '1px solid black'})\n",
    "# def show_selected_image(event, qgrid_widget):\n",
    "#     image_viewer.clear_output()\n",
    "#     row_idx = int(event['new'][0])\n",
    "#     df = pd.read_csv(filename)\n",
    "#     raw_image_filename = df.loc[row_idx, 'filename0']\n",
    "#     filepath = measurement_dir + '\\\\' + raw_image_filename.replace('.spe', '.jpg')\n",
    "#     with image_viewer:\n",
    "#         if os.path.exists(filepath) and '.jpg' in filepath:\n",
    "#             pil_img = Image(filepath)\n",
    "#             display(pil_img)\n",
    "#         else:\n",
    "#             display('no jpg preview at ' + filepath)\n",
    "\n",
    "optional_columns = []\n",
    "textbox = widgets.Text(\n",
    "    value='',\n",
    "    description='editable column name',\n",
    "    disabled=False,\n",
    "    style = {'description_width': 'initial'}\n",
    ")\n",
    "add_column_button = widgets.Button(description = 'add')\n",
    "def add_column(button):\n",
    "    global optional_columns\n",
    "    if len(textbox.value) > 0:\n",
    "        optional_columns = list(set().union(['manual_' + textbox.value],optional_columns))\n",
    "    print(optional_columns)\n",
    "add_column_button.on_click(add_column)\n",
    "clear_column_button = widgets.Button(description = 'clear column')\n",
    "def clear_column(button):\n",
    "    global optional_columns\n",
    "    if len(optional_columns) > 0:\n",
    "        optional_columns.pop()\n",
    "    print(optional_columns)\n",
    "clear_column_button.on_click(clear_column)\n",
    "widgets.HBox([textbox, add_column_button, clear_column_button])"
   ]
  },
  {
   "cell_type": "code",
   "execution_count": 4,
   "metadata": {
    "scrolled": false
   },
   "outputs": [
    {
     "data": {
      "application/vnd.jupyter.widget-view+json": {
       "model_id": "8e5250776d184a3fbc133ba8417adc45",
       "version_major": 2,
       "version_minor": 0
      },
      "text/plain": [
       "QgridWidget(grid_options={'fullWidthRows': True, 'syncColumnCellResize': True, 'forceFitColumns': False, 'defa…"
      ]
     },
     "metadata": {},
     "output_type": "display_data"
    }
   ],
   "source": [
    "%matplotlib notebook\n",
    "qgrid_widget = edit_image_log(optional_columns)\n",
    "qgrid_widget.on('cell_edited',save_image_log)\n",
    "# qgrid_widget.on('selection_changed', show_selected_image)\n",
    "display(qgrid_widget)\n",
    "# display(image_viewer)"
   ]
  },
  {
   "cell_type": "code",
   "execution_count": null,
   "metadata": {},
   "outputs": [],
   "source": [
    "df = bc.get_runs_df_from_ids([219153, 219152], optional_column_names=['manual_test2'])\n",
    "# df['test_variable'] = nan\n",
    "# df['editable_variables'] = [['test_variable']] * len(df)\n",
    "# df.loc[0,'test_variable']\n",
    "df"
   ]
  },
  {
   "cell_type": "code",
   "execution_count": null,
   "metadata": {},
   "outputs": [],
   "source": [
    "'manual' in 'manual_test1'"
   ]
  },
  {
   "cell_type": "code",
   "execution_count": null,
   "metadata": {},
   "outputs": [],
   "source": []
  }
 ],
 "metadata": {
  "kernelspec": {
   "display_name": "Python 3",
   "language": "python",
   "name": "python3"
  },
  "language_info": {
   "codemirror_mode": {
    "name": "ipython",
    "version": 3
   },
   "file_extension": ".py",
   "mimetype": "text/x-python",
   "name": "python",
   "nbconvert_exporter": "python",
   "pygments_lexer": "ipython3",
   "version": "3.7.1"
  }
 },
 "nbformat": 4,
 "nbformat_minor": 2
}
