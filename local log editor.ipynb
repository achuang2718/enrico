{
 "cells": [
  {
   "cell_type": "code",
   "execution_count": 1,
   "metadata": {},
   "outputs": [
    {
     "name": "stdout",
     "output_type": "stream",
     "text": [
      "today's measurement(s):\n",
      "['debugging']\n",
      "Enter name for this set of runs:debugging\n"
     ]
    }
   ],
   "source": [
    "breadboard_repo_path =  r'D:\\Fermidata1\\enrico\\breadboard-python-client\\\\'\n",
    "import sys\n",
    "sys.path.insert(0, breadboard_repo_path)\n",
    "from breadboard import BreadboardClient\n",
    "bc = BreadboardClient(config_path='API_CONFIG_fermi1.json') # enter your path to the API_config\n",
    "from IPython.display import Image\n",
    "import ipywidgets as widgets\n",
    "import qgrid\n",
    "import pandas as pd\n",
    "import time\n",
    "import warnings\n",
    "from measurement_directory import *\n",
    "from numpy import nan\n",
    "from ipywidgets import interact\n",
    "import os\n",
    "from image_watchdog import getFileList\n",
    "import json\n",
    "import numpy as np\n",
    "\n",
    "def get_newest_df(watchfolder, optional_column_names = []):\n",
    "    files, _ = getFileList(watchfolder)\n",
    "    run_ids = [run_id_from_filename(file) for file in files]\n",
    "    return bc.get_runs_df_from_ids(run_ids, optional_column_names = optional_column_names)\n",
    "\n",
    "print('today\\'s measurement(s):')\n",
    "print(todays_measurements())\n",
    "watchfolder = measurement_directory()"
   ]
  },
  {
   "cell_type": "markdown",
   "metadata": {},
   "source": [
    "## Run the next two cells to load the log from one of today's runs."
   ]
  },
  {
   "cell_type": "code",
   "execution_count": 2,
   "metadata": {},
   "outputs": [],
   "source": [
    "def edit_image_log(new_column = False, extra_display_vars = []):\n",
    "    df = get_newest_df(watchfolder, optional_column_names = ['editable_variables'] + \n",
    "                       extra_display_vars)\n",
    "    \n",
    "    if 'editable_variables' in df.columns:\n",
    "        editable_vars = df.loc[0,'editable_vars']\n",
    "    else:\n",
    "        editable_vars = []\n",
    "    \n",
    "#     if new_column:\n",
    "#         column_name = input('enter new column name (use CamelCase): ')\n",
    "#         if column_name not in df.columns:\n",
    "#             df[column_name] = nan\n",
    "#             editable_vars += [column_name]\n",
    "#             df['editable_variables'] = editable_vars\n",
    "#         else:\n",
    "#             warnings.warn('column \\'' + column_name + '\\' already exists')\n",
    "    \n",
    "    col_opts = { 'editable': False }\n",
    "    col_defs = {}\n",
    "    for col_name in editable_vars + ['badshot', 'notes']:\n",
    "        col_defs[col_name] = { 'editable': True }\n",
    "    col_defs['badshot']['ColumnWidth'] = 50\n",
    "    qgrid_widget = qgrid.show_grid(df, grid_options={'forceFitColumns': False, 'defaultColumnWidth': 100},\n",
    "                                  column_options=col_opts, column_definitions=col_defs)\n",
    "    return qgrid_widget\n",
    "\n",
    "def save_image_log(event, qgrid_widget):\n",
    "    row_idx = int(event['index'])\n",
    "    df = qgrid_widget.get_changed_df()\n",
    "    df_updated_row = df.loc[row_idx]\n",
    "    updated_row_dict = {}\n",
    "    for key in df_updated_row.index:\n",
    "        if key == 'notes':\n",
    "            continue\n",
    "        elif key == 'badshot':\n",
    "            updated_row_dict[key] = bool(df_updated_row.loc[key])\n",
    "        else:\n",
    "            if isinstance(df_updated_row.loc[key], np.integer):\n",
    "                updated_row_dict[key] = int(df_updated_row.loc[key])\n",
    "            elif isinstance(df_updated_row.loc[key], np.float):\n",
    "                updated_row_dict[key] = float(df_updated_row.loc[key])\n",
    "            \n",
    "    run_id = df_updated_row['run_id']\n",
    "    run_dict = bc._send_message(\n",
    "            'get', '/runs/' + str(run_id) + '/').json()\n",
    "    run_dict['notes'] = df_updated_row['notes']\n",
    "    run_dict['parameters'].update(updated_row_dict)\n",
    "    payload = json.dumps(run_dict)\n",
    "    bc._send_message('put', '/runs/' + str(run_id) + '/', data=payload)\n",
    "    qgrid_widget.close()\n",
    "    qgrid_widget = edit_image_log()\n",
    "    qgrid_widget.on('cell_edited',save_image_log)\n",
    "    display(qgrid_widget)\n",
    "\n",
    "# image_viewer = widgets.Output(layout={'border': '1px solid black'})\n",
    "# def show_selected_image(event, qgrid_widget):\n",
    "#     image_viewer.clear_output()\n",
    "#     row_idx = int(event['new'][0])\n",
    "#     df = pd.read_csv(filename)\n",
    "#     raw_image_filename = df.loc[row_idx, 'filename0']\n",
    "#     filepath = measurement_dir + '\\\\' + raw_image_filename.replace('.spe', '.jpg')\n",
    "#     with image_viewer:\n",
    "#         if os.path.exists(filepath) and '.jpg' in filepath:\n",
    "#             pil_img = Image(filepath)\n",
    "#             display(pil_img)\n",
    "#         else:\n",
    "#             display('no jpg preview at ' + filepath)\n",
    "\n",
    "\n",
    "# def add_new_column(new_column_in = False):\n",
    "#     global new_column\n",
    "#     new_column = new_column_in\n",
    "\n",
    "# mode_select_widget = interact(add_new_column,new_column_in=[False, True])"
   ]
  },
  {
   "cell_type": "code",
   "execution_count": 3,
   "metadata": {},
   "outputs": [
    {
     "data": {
      "application/vnd.jupyter.widget-view+json": {
       "model_id": "4d44a845a6c74cf3a2195c37e5ccfb3d",
       "version_major": 2,
       "version_minor": 0
      },
      "text/plain": [
       "QgridWidget(grid_options={'fullWidthRows': True, 'syncColumnCellResize': True, 'forceFitColumns': False, 'defa…"
      ]
     },
     "metadata": {},
     "output_type": "display_data"
    }
   ],
   "source": [
    "%matplotlib notebook\n",
    "qgrid_widget = edit_image_log(new_column=False)\n",
    "qgrid_widget.on('cell_edited',save_image_log)\n",
    "# qgrid_widget.on('selection_changed', show_selected_image)\n",
    "display(qgrid_widget)\n",
    "# display(image_viewer)"
   ]
  },
  {
   "cell_type": "code",
   "execution_count": null,
   "metadata": {},
   "outputs": [],
   "source": []
  }
 ],
 "metadata": {
  "kernelspec": {
   "display_name": "Python 3",
   "language": "python",
   "name": "python3"
  },
  "language_info": {
   "codemirror_mode": {
    "name": "ipython",
    "version": 3
   },
   "file_extension": ".py",
   "mimetype": "text/x-python",
   "name": "python",
   "nbconvert_exporter": "python",
   "pygments_lexer": "ipython3",
   "version": "3.7.6"
  }
 },
 "nbformat": 4,
 "nbformat_minor": 2
}
