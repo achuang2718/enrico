{
 "cells": [
  {
   "cell_type": "markdown",
   "metadata": {},
   "source": [
    "## Run the next two cells to load the log from one of today's runs."
   ]
  },
  {
   "cell_type": "code",
   "execution_count": 6,
   "metadata": {},
   "outputs": [
    {
     "data": {
      "application/vnd.jupyter.widget-view+json": {
       "model_id": "6a228a91b0fc4319b877d1aa4bc15875",
       "version_major": 2,
       "version_minor": 0
      },
      "text/plain": [
       "interactive(children=(Dropdown(description='new_column_in', options=(False, True), value=False), Output()), _d…"
      ]
     },
     "metadata": {},
     "output_type": "display_data"
    }
   ],
   "source": [
    "import qgrid\n",
    "import pandas as pd\n",
    "import time\n",
    "import warnings\n",
    "from measurement_directory import *\n",
    "from numpy import nan\n",
    "\n",
    "def translate_stringy_list(stringy_list):\n",
    "    #pd.read_csv imports listboundvariables dtype as a string, we want it in list form\n",
    "    final_list = []\n",
    "    stringy_list = stringy_list.split(',')\n",
    "    for var in stringy_list:\n",
    "        final_list.append(var.translate({ord(c): None for c in '[ ]\\,\\''}))\n",
    "    return final_list\n",
    "\n",
    "def save_image_log(event, qgrid_widget):\n",
    "    df_display = qgrid_widget.get_changed_df()\n",
    "    qgrid_widget.close()\n",
    "    df = pd.read_csv(filename)\n",
    "    for idx in range(len(df_display)):\n",
    "        for column in df_display.columns:\n",
    "            df.loc[idx, column] = df_display.loc[idx, column]\n",
    "    df.to_csv(filename, index = False)\n",
    "    qgrid_widget = edit_image_log()\n",
    "    qgrid_widget.on('cell_edited',save_image_log)\n",
    "    display(qgrid_widget)\n",
    "\n",
    "def edit_image_log(new_column = False, extra_display_vars = []):\n",
    "    \n",
    "#     try: #save the edited log if it was opened and edited\n",
    "#         save_image_log(filename)\n",
    "#     except:\n",
    "#         pass\n",
    "    df = pd.read_csv(filename, dtype={'badshot': 'bool'})\n",
    "    display_vars = []\n",
    "    \n",
    "    if 'editable_variables' in df.columns:\n",
    "        editable_vars = translate_stringy_list(df['editable_variables'][0])\n",
    "    else:\n",
    "        editable_vars = []\n",
    "    \n",
    "    if new_column:\n",
    "        column_name = input('enter new column name (use CamelCase): ')\n",
    "        if column_name not in df.columns:\n",
    "            df[column_name] = nan\n",
    "            editable_vars += [column_name]\n",
    "            df['editable_variables'] = str(editable_vars)\n",
    "        else:\n",
    "            warnings.warn('column \\'' + column_name + '\\' already exists')\n",
    "    \n",
    "    list_bound_vars = translate_stringy_list(df['ListBoundVariables'][0])\n",
    "    if 'editable_variables' in df.columns:\n",
    "        editable_vars = translate_stringy_list(df['editable_variables'][0])\n",
    "    else:\n",
    "        editable_vars = []\n",
    "        \n",
    "    if 'analyzed_variables' in df.columns:\n",
    "        analyzed_vars = translate_stringy_list(df['analyzed_variables'][0])\n",
    "        #parse analyzed_vars\n",
    "        for i in range(len(analyzed_vars)):\n",
    "            if analyzed_vars[i] not in df.columns:\n",
    "                for column in df.columns:\n",
    "                    if analyzed_vars[i] == column.translate({ord(c): None for c in '[ ]\\,\\''}):\n",
    "                        analyzed_vars[i] = column\n",
    "    else:\n",
    "        analyzed_vars = []\n",
    "        \n",
    "    display_vars += ['badshot', 'notes'] + editable_vars + list_bound_vars  + extra_display_vars + analyzed_vars + ['runtime']\n",
    "    if 'editable_variables' in df.columns:\n",
    "        display_vars += ['editable_variables']\n",
    "    \n",
    "    df_display = df[display_vars]\n",
    "    col_opts = { 'editable': False }\n",
    "    col_defs = {}\n",
    "    for col_name in editable_vars + ['badshot', 'notes']:\n",
    "        col_defs[col_name] = { 'editable': True }\n",
    "    col_defs['badshot']['ColumnWidth'] = 50\n",
    "    qgrid_widget = qgrid.show_grid(df_display, grid_options={'forceFitColumns': False, 'defaultColumnWidth': 100},\n",
    "                                  column_options=col_opts, column_definitions=col_defs)\n",
    "    return qgrid_widget\n",
    "\n",
    "import ipywidgets as widgets\n",
    "from ipywidgets import interact\n",
    "\n",
    "def add_new_column(new_column_in = False):\n",
    "    global new_column\n",
    "    new_column = new_column_in\n",
    "    \n",
    "mode_select_widget = interact(add_new_column,new_column_in=[False, True])"
   ]
  },
  {
   "cell_type": "code",
   "execution_count": 7,
   "metadata": {},
   "outputs": [
    {
     "name": "stdout",
     "output_type": "stream",
     "text": [
      "Enter name for this set of runs:foo\n"
     ]
    },
    {
     "data": {
      "application/vnd.jupyter.widget-view+json": {
       "model_id": "",
       "version_major": 2,
       "version_minor": 0
      },
      "text/plain": [
       "QgridWidget(grid_options={'fullWidthRows': True, 'syncColumnCellResize': True, 'forceFitColumns': False, 'defa…"
      ]
     },
     "metadata": {},
     "output_type": "display_data"
    },
    {
     "data": {
      "application/vnd.jupyter.widget-view+json": {
       "model_id": "",
       "version_major": 2,
       "version_minor": 0
      },
      "text/plain": [
       "QgridWidget(grid_options={'fullWidthRows': True, 'syncColumnCellResize': True, 'forceFitColumns': False, 'defa…"
      ]
     },
     "metadata": {},
     "output_type": "display_data"
    },
    {
     "data": {
      "application/vnd.jupyter.widget-view+json": {
       "model_id": "2b47ea1f55e2401a96fd7afbada75d9d",
       "version_major": 2,
       "version_minor": 0
      },
      "text/plain": [
       "QgridWidget(grid_options={'fullWidthRows': True, 'syncColumnCellResize': True, 'forceFitColumns': False, 'defa…"
      ]
     },
     "metadata": {},
     "output_type": "display_data"
    }
   ],
   "source": [
    "global filename\n",
    "filename = measurement_directory() + r'\\image_log.csv'\n",
    "qgrid_widget = edit_image_log(new_column)\n",
    "qgrid_widget.on('cell_edited',save_image_log)\n",
    "display(qgrid_widget)"
   ]
  },
  {
   "cell_type": "code",
   "execution_count": 8,
   "metadata": {},
   "outputs": [
    {
     "data": {
      "text/plain": [
       "['foo']"
      ]
     },
     "execution_count": 8,
     "metadata": {},
     "output_type": "execute_result"
    }
   ],
   "source": []
  },
  {
   "cell_type": "code",
   "execution_count": null,
   "metadata": {},
   "outputs": [],
   "source": []
  }
 ],
 "metadata": {
  "kernelspec": {
   "display_name": "Python 3",
   "language": "python",
   "name": "python3"
  },
  "language_info": {
   "codemirror_mode": {
    "name": "ipython",
    "version": 3
   },
   "file_extension": ".py",
   "mimetype": "text/x-python",
   "name": "python",
   "nbconvert_exporter": "python",
   "pygments_lexer": "ipython3",
   "version": "3.7.1"
  }
 },
 "nbformat": 4,
 "nbformat_minor": 2
}
