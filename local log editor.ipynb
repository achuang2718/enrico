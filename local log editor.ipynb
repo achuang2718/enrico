{
 "cells": [
  {
   "cell_type": "code",
   "execution_count": 1,
   "metadata": {},
   "outputs": [
    {
     "data": {
      "application/vnd.jupyter.widget-view+json": {
       "model_id": "ee4124496fc74b0da645b87dd4f464d5",
       "version_major": 2,
       "version_minor": 0
      },
      "text/plain": [
       "FileChooser(path='C:\\Users\\Alex\\Dropbox (MIT)\\lab side projects\\enrico', filename='', title='HTML(value='', la…"
      ]
     },
     "metadata": {},
     "output_type": "display_data"
    },
    {
     "data": {
      "application/vnd.jupyter.widget-view+json": {
       "model_id": "1008d0a0cdf6498ab6c3c222c56c85a6",
       "version_major": 2,
       "version_minor": 0
      },
      "text/plain": [
       "HBox(children=(Button(description='load', style=ButtonStyle()), Button(description='refresh', style=ButtonStyl…"
      ]
     },
     "metadata": {},
     "output_type": "display_data"
    },
    {
     "data": {
      "application/vnd.jupyter.widget-view+json": {
       "model_id": "c70b47edc2d1409bafd9032345174c0c",
       "version_major": 2,
       "version_minor": 0
      },
      "text/plain": [
       "HBox(children=(Select(description='manual columns', options=(), style=DescriptionStyle(description_width='init…"
      ]
     },
     "metadata": {},
     "output_type": "display_data"
    },
    {
     "data": {
      "application/vnd.jupyter.widget-view+json": {
       "model_id": "8f7ebf8acff34a38a43192833f025302",
       "version_major": 2,
       "version_minor": 0
      },
      "text/plain": [
       "QgridWidget(grid_options={'fullWidthRows': True, 'syncColumnCellResize': True, 'forceFitColumns': False, 'defa…"
      ]
     },
     "metadata": {},
     "output_type": "display_data"
    }
   ],
   "source": [
    "from log_editor import *"
   ]
  },
  {
   "cell_type": "code",
   "execution_count": 6,
   "metadata": {},
   "outputs": [
    {
     "data": {
      "text/plain": [
       "'C:\\\\Users\\\\Alex\\\\Dropbox (MIT)\\\\lab side projects\\\\enrico_params.csv'"
      ]
     },
     "execution_count": 6,
     "metadata": {},
     "output_type": "execute_result"
    }
   ],
   "source": []
  },
  {
   "cell_type": "code",
   "execution_count": null,
   "metadata": {},
   "outputs": [],
   "source": [
    "\n",
    "\n",
    "\n",
    "\n",
    "# image_viewer = widgets.Output(layout={'border': '1px solid black'})\n",
    "# def show_selected_image(event, qgrid_widget):\n",
    "#     image_viewer.clear_output()\n",
    "#     row_idx = int(event['new'][0])\n",
    "#     df = pd.read_csv(filename)\n",
    "#     raw_image_filename = df.loc[row_idx, 'filename0']\n",
    "#     filepath = measurement_dir + '\\\\' + raw_image_filename.replace('.spe', '.jpg')\n",
    "#     with image_viewer:\n",
    "#         if os.path.exists(filepath) and '.jpg' in filepath:\n",
    "#             pil_img = Image(filepath)\n",
    "#             display(pil_img)\n",
    "#         else:\n",
    "#             display('no jpg preview at ' + filepath)\n",
    "\n",
    "optional_columns = []\n",
    "textbox = widgets.Text(\n",
    "    value='',\n",
    "    description='editable column name',\n",
    "    disabled=False,\n",
    "    style = {'description_width': 'initial'}\n",
    ")\n",
    "add_column_button = widgets.Button(description = 'add')\n",
    "def add_column(button):\n",
    "    global optional_columns\n",
    "    if len(textbox.value) > 0:\n",
    "        optional_columns = list(set().union(['manual_' + textbox.value],optional_columns))\n",
    "    print(optional_columns)\n",
    "add_column_button.on_click(add_column)\n",
    "clear_column_button = widgets.Button(description = 'clear column')\n",
    "def clear_column(button):\n",
    "    global optional_columns\n",
    "    if len(optional_columns) > 0:\n",
    "        optional_columns.pop()\n",
    "    print(optional_columns)\n",
    "clear_column_button.on_click(clear_column)\n",
    "widgets.HBox([textbox, add_column_button, clear_column_button])"
   ]
  },
  {
   "cell_type": "code",
   "execution_count": null,
   "metadata": {
    "scrolled": false
   },
   "outputs": [],
   "source": [
    "%matplotlib notebook\n",
    "qgrid_widget = edit_image_log(optional_columns)\n",
    "\n",
    "# qgrid_widget.on('selection_changed', show_selected_image)\n",
    "display(qgrid_widget)\n",
    "# display(image_viewer)"
   ]
  },
  {
   "cell_type": "code",
   "execution_count": null,
   "metadata": {},
   "outputs": [],
   "source": [
    "df = bc.get_runs_df_from_ids([219153, 219152], optional_column_names=['manual_test2'])\n",
    "# df['test_variable'] = nan\n",
    "# df['editable_variables'] = [['test_variable']] * len(df)\n",
    "# df.loc[0,'test_variable']\n",
    "df"
   ]
  },
  {
   "cell_type": "code",
   "execution_count": null,
   "metadata": {},
   "outputs": [],
   "source": [
    "'manual' in 'manual_test1'"
   ]
  },
  {
   "cell_type": "code",
   "execution_count": null,
   "metadata": {},
   "outputs": [],
   "source": []
  }
 ],
 "metadata": {
  "kernelspec": {
   "display_name": "Python 3",
   "language": "python",
   "name": "python3"
  },
  "language_info": {
   "codemirror_mode": {
    "name": "ipython",
    "version": 3
   },
   "file_extension": ".py",
   "mimetype": "text/x-python",
   "name": "python",
   "nbconvert_exporter": "python",
   "pygments_lexer": "ipython3",
   "version": "3.7.1"
  }
 },
 "nbformat": 4,
 "nbformat_minor": 2
}
