{
 "cells": [
  {
   "cell_type": "code",
   "execution_count": 1,
   "metadata": {},
   "outputs": [],
   "source": [
    "import qgrid\n",
    "import pandas as pd\n",
    "import time\n",
    "import warnings\n",
    "\n",
    "def translate_stringy_list(stringy_list):\n",
    "    #pd.read_csv imports listboundvariables dtype as a string, we want it in list form\n",
    "    final_list = []\n",
    "    stringy_list = stringy_list.split(',')\n",
    "    for var in stringy_list:\n",
    "        final_list.append(var.translate({ord(c): None for c in '[ ]\\,\\''}))\n",
    "    return final_list\n",
    "\n",
    "def save_image_log(event, qgrid_widget):\n",
    "    df_display = qgrid_widget.get_changed_df()\n",
    "    qgrid_widget.close()\n",
    "    df = pd.read_csv(filename)\n",
    "    for idx in range(len(df_display)):\n",
    "        for column in df_display.columns:\n",
    "            df.loc[idx, column] = df_display.loc[idx, column]\n",
    "    df.to_csv(filename, index = False)\n",
    "    qgrid_widget = edit_image_log()\n",
    "    qgrid_widget.on('cell_edited',save_image_log)\n",
    "    display(qgrid_widget)\n",
    "\n",
    "def edit_image_log(new_columns = {}):\n",
    "    #new_columns accepts a dictionary of {column_name: default value}, e.g. {'filter_in': False, 'OD':4}\n",
    "    #set default value of string dtypes as '[space]' for easier parsing\n",
    "    \n",
    "#     try: #save the edited log if it was opened and edited\n",
    "#         save_image_log(filename)\n",
    "#     except:\n",
    "#         pass\n",
    "    df = pd.read_csv(filename, dtype={'badshot': 'bool'})\n",
    "    for column_name in new_columns:\n",
    "        if column_name not in df.columns:\n",
    "            df[column_name] = new_columns[column_name]\n",
    "        else:\n",
    "            warnings.warn('column \\'' + column_name + '\\' already exists')\n",
    "    \n",
    "    list_bound_vars = translate_stringy_list(df['ListBoundVariables'][0])\n",
    "    if 'editable_variables' in df.columns:\n",
    "        editable_vars = translate_stringy_list(df['editable_variables'][0])\n",
    "        editable_vars = editable_vars + [column_name for column_name in new_columns]\n",
    "    else:\n",
    "        editable_vars = [column_name for column_name in new_columns]\n",
    "    if len(editable_vars) > 0:\n",
    "        df['editable_variables'] = str(editable_vars)\n",
    "    \n",
    "#     display_vars = ['badshot', 'notes'] + list_bound_vars + ['fake analysis'] + editable_vars + ['runtime']\n",
    "    display_vars = ['badshot', 'notes'] + list_bound_vars + editable_vars + ['runtime', 'analyzed_variables']\n",
    "    df_display = df[display_vars]\n",
    "    qgrid_widget = qgrid.show_grid(df_display, grid_options = {'fullWidthRows' : False})\n",
    "    return qgrid_widget"
   ]
  },
  {
   "cell_type": "code",
   "execution_count": 3,
   "metadata": {
    "scrolled": true
   },
   "outputs": [
    {
     "name": "stdout",
     "output_type": "stream",
     "text": [
      "enter run directory, e.g. 07\\200729\\foo\\ for run foo on Jul 29,2020:07\\200729\\foo\\\n"
     ]
    },
    {
     "data": {
      "application/vnd.jupyter.widget-view+json": {
       "model_id": "dd1b6fc74d3e450ea52611bf96dcb048",
       "version_major": 2,
       "version_minor": 0
      },
      "text/plain": [
       "QgridWidget(grid_options={'fullWidthRows': False, 'syncColumnCellResize': True, 'forceFitColumns': True, 'defa…"
      ]
     },
     "metadata": {},
     "output_type": "display_data"
    }
   ],
   "source": [
    "global filename\n",
    "filename = input(r'enter run directory, e.g. 07\\200729\\foo\\ for run foo on Jul 29,2020:')#'07\\200729\\foo\\'\n",
    "filename = filename + 'image_log.csv'\n",
    "qgrid_widget = edit_image_log()\n",
    "qgrid_widget.on('cell_edited',save_image_log)\n",
    "display(qgrid_widget)"
   ]
  },
  {
   "cell_type": "code",
   "execution_count": null,
   "metadata": {},
   "outputs": [],
   "source": []
  }
 ],
 "metadata": {
  "kernelspec": {
   "display_name": "Python 3",
   "language": "python",
   "name": "python3"
  },
  "language_info": {
   "codemirror_mode": {
    "name": "ipython",
    "version": 3
   },
   "file_extension": ".py",
   "mimetype": "text/x-python",
   "name": "python",
   "nbconvert_exporter": "python",
   "pygments_lexer": "ipython3",
   "version": "3.7.1"
  }
 },
 "nbformat": 4,
 "nbformat_minor": 2
}
