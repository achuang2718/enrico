{
 "cells": [
  {
   "cell_type": "markdown",
   "metadata": {},
   "source": [
    "## Run the next two cells to load the log from one of today's runs."
   ]
  },
  {
   "cell_type": "code",
   "execution_count": 48,
   "metadata": {},
   "outputs": [
    {
     "data": {
      "application/vnd.jupyter.widget-view+json": {
       "model_id": "daf2dbf7d28b4ce58bf0eb0d62157f12",
       "version_major": 2,
       "version_minor": 0
      },
      "text/plain": [
       "interactive(children=(Dropdown(description='new_column_in', options=(False, True), value=False), Output()), _d…"
      ]
     },
     "metadata": {},
     "output_type": "display_data"
    }
   ],
   "source": [
    "import qgrid\n",
    "import pandas as pd\n",
    "import time\n",
    "import warnings\n",
    "from measurement_directory import *\n",
    "from numpy import nan\n",
    "\n",
    "def translate_stringy_list(stringy_list):\n",
    "    #pd.read_csv imports listboundvariables dtype as a string, we want it in list form\n",
    "    final_list = []\n",
    "    stringy_list = stringy_list.split(',')\n",
    "    for var in stringy_list:\n",
    "        final_list.append(var.translate({ord(c): None for c in '[ ]\\,\\''}))\n",
    "    return final_list\n",
    "\n",
    "def save_image_log(event, qgrid_widget):\n",
    "    df_display = qgrid_widget.get_changed_df()\n",
    "    qgrid_widget.close()\n",
    "    df = pd.read_csv(filename)\n",
    "    for idx in range(len(df_display)):\n",
    "        for column in df_display.columns:\n",
    "            df.loc[idx, column] = df_display.loc[idx, column]\n",
    "    df.to_csv(filename, index = False)\n",
    "    qgrid_widget = edit_image_log()\n",
    "    qgrid_widget.on('cell_edited',save_image_log)\n",
    "    display(qgrid_widget)\n",
    "\n",
    "def edit_image_log(new_column = False, extra_display_vars = []):\n",
    "    #new_columns accepts a dictionary of {column_name: default value}, e.g. {'filter_in': False, 'OD':4}\n",
    "    #set default value of string dtypes as '[space]' for easier parsing\n",
    "    \n",
    "#     try: #save the edited log if it was opened and edited\n",
    "#         save_image_log(filename)\n",
    "#     except:\n",
    "#         pass\n",
    "    df = pd.read_csv(filename, dtype={'badshot': 'bool'})\n",
    "    display_vars = []\n",
    "    \n",
    "    if 'editable_variables' in df.columns:\n",
    "        editable_vars = translate_stringy_list(df['editable_variables'][0])\n",
    "    else:\n",
    "        editable_vars = []\n",
    "    \n",
    "    if new_column:\n",
    "        column_name = input('enter new column name (use CamelCase): ')\n",
    "        if column_name not in df.columns:\n",
    "            df[column_name] = nan\n",
    "            editable_vars += [column_name]\n",
    "            df['editable_variables'] = str(editable_vars)\n",
    "        else:\n",
    "            warnings.warn('column \\'' + column_name + '\\' already exists')\n",
    "    \n",
    "    list_bound_vars = translate_stringy_list(df['ListBoundVariables'][0])\n",
    "    if 'editable_variables' in df.columns:\n",
    "        editable_vars = translate_stringy_list(df['editable_variables'][0])\n",
    "    else:\n",
    "        editable_vars = []\n",
    "        \n",
    "    if 'analyzed_variables' in df.columns:\n",
    "        analyzed_vars = translate_stringy_list(df['analyzed_variables'][0])\n",
    "        #parse analyzed_vars\n",
    "        for i in range(len(analyzed_vars)):\n",
    "            if analyzed_vars[i] not in df.columns:\n",
    "                for column in df.columns:\n",
    "                    if analyzed_vars[i] == column.translate({ord(c): None for c in '[ ]\\,\\''}):\n",
    "                        analyzed_vars[i] = column\n",
    "    else:\n",
    "        analyzed_vars = []\n",
    "        \n",
    "    display_vars += ['badshot', 'notes'] + editable_vars + list_bound_vars  + extra_display_vars + analyzed_vars + ['runtime']\n",
    "    if 'editable_variables' in df.columns:\n",
    "        display_vars += ['editable_variables']\n",
    "    \n",
    "    df_display = df[display_vars]\n",
    "    qgrid_widget = qgrid.show_grid(df_display, grid_options={'forceFitColumns': False, 'defaultColumnWidth': 100})\n",
    "    return qgrid_widget\n",
    "\n",
    "# def edit_image_log(new_columns = {}):\n",
    "#     #new_columns accepts a dictionary of {column_name: default value}, e.g. {'filter_in': False, 'OD':4}\n",
    "#     #set default value of string dtypes as '[space]' for easier parsing\n",
    "    \n",
    "# #     try: #save the edited log if it was opened and edited\n",
    "# #         save_image_log(filename)\n",
    "# #     except:\n",
    "# #         pass\n",
    "#     df = pd.read_csv(filename, dtype={'badshot': 'bool'})\n",
    "# #     for column_name in new_columns:\n",
    "# #         if column_name not in df.columns:\n",
    "# #             df[column_name] = new_columns[column_name]\n",
    "# #         else:\n",
    "# #             warnings.warn('column \\'' + column_name + '\\' already exists')\n",
    "    \n",
    "#     list_bound_vars = translate_stringy_list(df['ListBoundVariables'][0])\n",
    "# #     if 'editable_variables' in df.columns:\n",
    "# #         editable_vars = translate_stringy_list(df['editable_variables'][0])\n",
    "# #         editable_vars = editable_vars + [column_name for column_name in new_columns]\n",
    "# #     else:\n",
    "# #         editable_vars = [column_name for column_name in new_columns]\n",
    "# #     if len(editable_vars) > 0:\n",
    "# #         df['editable_variables'] = str(editable_vars)\n",
    "    \n",
    "# #     display_vars = ['badshot', 'notes'] + list_bound_vars + ['fake analysis'] + editable_vars + ['runtime']\n",
    "#     display_vars = ['badshot', 'notes'] + list_bound_vars + ['runtime', 'analyzed_variables']\n",
    "#     df_display = df[display_vars]\n",
    "#     qgrid_widget = qgrid.show_grid(df_display, grid_options = {'fullWidthRows' : False})\n",
    "#     return qgrid_widget\n",
    "\n",
    "import ipywidgets as widgets\n",
    "from ipywidgets import interact\n",
    "\n",
    "def add_new_column(new_column_in = False):\n",
    "    global new_column\n",
    "    new_column = new_column_in\n",
    "    \n",
    "mode_select_widget = interact(add_new_column,new_column_in=[False, True])"
   ]
  },
  {
   "cell_type": "code",
   "execution_count": 46,
   "metadata": {
    "scrolled": true
   },
   "outputs": [
    {
     "name": "stdout",
     "output_type": "stream",
     "text": [
      "Enter name for this set of runs:foo\n",
      "enter new column name (use CamelCase): blah\n"
     ]
    },
    {
     "name": "stderr",
     "output_type": "stream",
     "text": [
      "C:\\Users\\Alex\\Anaconda3\\lib\\site-packages\\ipykernel_launcher.py:51: UserWarning: column 'blah' already exists\n"
     ]
    },
    {
     "data": {
      "application/vnd.jupyter.widget-view+json": {
       "model_id": "e75ebc55e3d048c6a0e0de8442491eac",
       "version_major": 2,
       "version_minor": 0
      },
      "text/plain": [
       "QgridWidget(grid_options={'fullWidthRows': True, 'syncColumnCellResize': True, 'forceFitColumns': False, 'defa…"
      ]
     },
     "metadata": {},
     "output_type": "display_data"
    }
   ],
   "source": [
    "global filename\n",
    "filename = measurement_directory() + r'\\image_log.csv'\n",
    "qgrid_widget = edit_image_log(new_column)\n",
    "qgrid_widget.on('cell_edited',save_image_log)\n",
    "display(qgrid_widget)"
   ]
  },
  {
   "cell_type": "code",
   "execution_count": 8,
   "metadata": {},
   "outputs": [
    {
     "data": {
      "text/plain": [
       "['foo']"
      ]
     },
     "execution_count": 8,
     "metadata": {},
     "output_type": "execute_result"
    }
   ],
   "source": []
  },
  {
   "cell_type": "code",
   "execution_count": null,
   "metadata": {},
   "outputs": [],
   "source": []
  }
 ],
 "metadata": {
  "kernelspec": {
   "display_name": "Python 3",
   "language": "python",
   "name": "python3"
  },
  "language_info": {
   "codemirror_mode": {
    "name": "ipython",
    "version": 3
   },
   "file_extension": ".py",
   "mimetype": "text/x-python",
   "name": "python",
   "nbconvert_exporter": "python",
   "pygments_lexer": "ipython3",
   "version": "3.7.1"
  }
 },
 "nbformat": 4,
 "nbformat_minor": 2
}
