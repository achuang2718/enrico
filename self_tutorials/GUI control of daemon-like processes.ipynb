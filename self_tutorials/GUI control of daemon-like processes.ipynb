{
 "cells": [
  {
   "cell_type": "code",
   "execution_count": 1,
   "metadata": {},
   "outputs": [],
   "source": [
    "from ipywidgets import Button\n",
    "import threading\n",
    "from time import sleep"
   ]
  },
  {
   "cell_type": "code",
   "execution_count": 6,
   "metadata": {},
   "outputs": [
    {
     "data": {
      "application/vnd.jupyter.widget-view+json": {
       "model_id": "f9e4e06ab2fe42bcb9806f2ee78d20d4",
       "version_major": 2,
       "version_minor": 0
      },
      "text/plain": [
       "Button(button_style='warning', description='stop', style=ButtonStyle())"
      ]
     },
     "metadata": {},
     "output_type": "display_data"
    },
    {
     "name": "stdout",
     "output_type": "stream",
     "text": [
      "running\n",
      "running\n",
      "running\n",
      "running\n",
      "running\n",
      "running\n",
      "running\n",
      "running\n",
      "running\n",
      "running\n",
      "running\n",
      "running\n",
      "running\n",
      "running\n",
      "running\n",
      "running\n",
      "running\n",
      "running\n",
      "running\n",
      "running\n",
      "running\n",
      "running\n",
      "waiting here\n",
      "waiting here\n",
      "waiting here\n",
      "waiting here\n",
      "waiting here\n",
      "waiting here\n",
      "waiting here\n",
      "waiting here\n",
      "waiting here\n",
      "waiting here\n",
      "waiting here\n",
      "waiting here\n",
      "waiting here\n",
      "waiting here\n",
      "waiting here\n",
      "waiting here\n",
      "waiting here\n",
      "waiting here\n",
      "waiting here\n",
      "waiting here\n",
      "waiting here\n",
      "waiting here\n",
      "waiting here\n",
      "waiting here\n",
      "waiting here\n",
      "waiting here\n",
      "waiting here\n",
      "waiting here\n",
      "waiting here\n",
      "waiting here\n",
      "waiting here\n",
      "running\n",
      "running\n",
      "running\n",
      "running\n"
     ]
    }
   ],
   "source": [
    "button = Button(description = 'stop',\n",
    "                button_style = 'warning')\n",
    "global flag\n",
    "flag = True\n",
    "def stop_click(button):\n",
    "    global flag\n",
    "    flag = not flag\n",
    "button.on_click(stop_click)\n",
    "display(button)\n",
    "    \n",
    "def foo():\n",
    "    global flag\n",
    "    while True:\n",
    "        if flag:\n",
    "            print('running')\n",
    "        else:\n",
    "            print('waiting here')\n",
    "        sleep(3)\n",
    "            \n",
    "        \n",
    "thread = threading.Thread(target=foo)\n",
    "thread.start()"
   ]
  },
  {
   "cell_type": "code",
   "execution_count": null,
   "metadata": {},
   "outputs": [],
   "source": []
  }
 ],
 "metadata": {
  "kernelspec": {
   "display_name": "Python 3",
   "language": "python",
   "name": "python3"
  },
  "language_info": {
   "codemirror_mode": {
    "name": "ipython",
    "version": 3
   },
   "file_extension": ".py",
   "mimetype": "text/x-python",
   "name": "python",
   "nbconvert_exporter": "python",
   "pygments_lexer": "ipython3",
   "version": "3.7.1"
  }
 },
 "nbformat": 4,
 "nbformat_minor": 2
}
