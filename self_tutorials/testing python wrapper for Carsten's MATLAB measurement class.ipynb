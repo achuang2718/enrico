{
 "cells": [
  {
   "cell_type": "code",
   "execution_count": 1,
   "metadata": {},
   "outputs": [
    {
     "name": "stdout",
     "output_type": "stream",
     "text": [
      "loading matlab engine...\n",
      "matlab engine loaded\n"
     ]
    }
   ],
   "source": [
    "print('loading matlab engine...')\n",
    "import matlab.engine\n",
    "eng = matlab.engine.start_matlab() \n",
    "\"\"\"only import matlab.engine at the highest level script, \n",
    "    to prevent multiple instances of MATLAB to be opened\"\"\"\n",
    "print('matlab engine loaded')\n",
    "from test_wrapper import getMATLABanalysis"
   ]
  },
  {
   "cell_type": "code",
   "execution_count": 2,
   "metadata": {
    "scrolled": false
   },
   "outputs": [
    {
     "data": {
      "text/plain": [
       "{'bareNcntValues': matlab.double([]),\n",
       " 'bareNcntAverageMarqueeBoxValues': 13109.43245698669,\n",
       " 'fitBimodal': {'parameterNames': ['Amp BEC',\n",
       "   'Amp Therm:BEC ratio',\n",
       "   'Offset',\n",
       "   'BEC ratio width',\n",
       "   'Therm width',\n",
       "   'xBEC',\n",
       "   'xTherm'],\n",
       "  'xparam': matlab.double([[0.27138652395027885,0.8985881199129897,-0.02417058949880222,63.956149020800794,77.28210256814688,134.87944861838145,138.93418689918397]]),\n",
       "  'yparam': matlab.double([[0.2508322012401666,0.9041739546126928,-0.011632332264069765,65.02452134347811,96.69721881780572,174.78059136722254,180.29389440816405]]),\n",
       "  'xci': matlab.double([[[0.2406261191628896,0.7086796083565481,-0.03395455370354607,62.06944992916917,69.72901928773888,134.15804936106247,137.75846766703256],[0.30214692873766813,1.0884966314694313,-0.014386625294058373,65.84284811243242,84.83518584855489,135.60084787570042,140.10990613133538]]]),\n",
       "  'yci': matlab.double([[[0.23043257472365436,0.775088501072478,-0.021758195716536283,62.71276440692367,88.09307794438342,173.91896094709065,178.6917832255225],[0.2712318277566788,1.0332594081529076,-0.0015064688116032485,67.33627828003256,105.30135969122801,175.64222178735443,181.8960055908056]]])},\n",
       " 'COMX': 138.32843929561886,\n",
       " 'COMY': 178.67327212520686,\n",
       " 'fitBimodalExcludeCenter': {'parameterNames': ['amplitude',\n",
       "   'width',\n",
       "   'position'],\n",
       "  'xparam': matlab.double([[0.2508420326233632,62.76087687753462,134.63760610033583]]),\n",
       "  'yparam': matlab.double([[0.2333690781889453,63.40463661878325,174.5990855958171]]),\n",
       "  'xci': matlab.double([[[0.2487797309120806,0.25290433433464576],[62.244885561613124,63.27686819345612],[134.37961133037473,134.89560087029693]]]),\n",
       "  'yci': matlab.double([[[0.23066014536691679,0.23607801101097384],[62.668641434789905,64.1406318027766],[174.23108719215773,174.96708399947644]]]),\n",
       "  'GaussianWingsX': matlab.double([[0.2617702263460756,-0.02090913008103411,73.64985575514307,138.95379742856957]]),\n",
       "  'GaussianWingsY': matlab.double([[0.24113092290990726,-0.00806040108558603,91.99473340623089,180.16663356526783]]),\n",
       "  'GaussianWingsXci': matlab.double([[[0.2509866544891363,0.2725537982030149],[-0.023607016319294547,-0.018211243842773676],[71.41137384001654,75.88833767026959],[138.5755220040468,139.33207285309234]]]),\n",
       "  'GaussianWingsYci': matlab.double([[[0.23338479293579525,0.24887705288401926],[-0.01149074362650977,-0.004630058544662289],[88.95514609899782,95.03432071346397],[179.55729502780605,180.7759721027296]]])}}"
      ]
     },
     "execution_count": 2,
     "metadata": {},
     "output_type": "execute_result"
    }
   ],
   "source": [
    "from test_wrapper import getMATLABanalysis\n",
    "filepath = r'C:\\Users\\FermiCam2\\Documents\\FermiData2\\2020\\Jul\\20200723\\images\\test_101.spe'\n",
    "analysis_dict = getMATLABanalysis(eng, filepath)"
   ]
  },
  {
   "cell_type": "code",
   "execution_count": 3,
   "metadata": {},
   "outputs": [
    {
     "name": "stdout",
     "output_type": "stream",
     "text": [
      "check if the Carsten MATLAB code is at the path specified\n",
      "\n"
     ]
    }
   ],
   "source": [
    "print('check if the Carsten MATLAB code is at the path specified\\n')"
   ]
  },
  {
   "cell_type": "code",
   "execution_count": null,
   "metadata": {},
   "outputs": [],
   "source": []
  }
 ],
 "metadata": {
  "kernelspec": {
   "display_name": "Python 3",
   "language": "python",
   "name": "python3"
  },
  "language_info": {
   "codemirror_mode": {
    "name": "ipython",
    "version": 3
   },
   "file_extension": ".py",
   "mimetype": "text/x-python",
   "name": "python",
   "nbconvert_exporter": "python",
   "pygments_lexer": "ipython3",
   "version": "3.7.6"
  }
 },
 "nbformat": 4,
 "nbformat_minor": 4
}
