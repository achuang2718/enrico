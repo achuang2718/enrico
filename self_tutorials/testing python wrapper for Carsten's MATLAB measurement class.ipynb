{
 "cells": [
  {
   "cell_type": "code",
   "execution_count": 1,
   "metadata": {},
   "outputs": [
    {
     "name": "stdout",
     "output_type": "stream",
     "text": [
      "loading matlab engine...\n",
      "matlab engine loaded\n"
     ]
    }
   ],
   "source": [
    "print('loading matlab engine...')\n",
    "import matlab.engine\n",
    "eng = matlab.engine.start_matlab() \n",
    "\"\"\"only import matlab.engine at the highest level script, \n",
    "    to prevent multiple instances of MATLAB to be opened\"\"\"\n",
    "print('matlab engine loaded')\n",
    "from test_wrapper import getMATLABanalysis"
   ]
  },
  {
   "cell_type": "code",
   "execution_count": 5,
   "metadata": {
    "scrolled": false
   },
   "outputs": [],
   "source": [
    "from test_wrapper import getMATLABanalysis\n",
    "filepath = r'C:\\Users\\FermiCam2\\Documents\\FermiData2\\2020\\Jul\\20200723\\done\\test_101.spe'\n",
    "analysis = getMATLABanalysis(eng, filepath)\n",
    "analysis"
   ]
  },
  {
   "cell_type": "code",
   "execution_count": 9,
   "metadata": {},
   "outputs": [
    {
     "data": {
      "text/plain": [
       "{'analysis': {'bareNcntValues': matlab.double([]),\n",
       "  'bareNcntAverageMarqueeBoxValues': 644612.2174582304,\n",
       "  'fitBimodal': {'parameterNames': ['Amp BEC',\n",
       "    'Amp Therm:BEC ratio',\n",
       "    'Offset',\n",
       "    'BEC ratio width',\n",
       "    'Therm width',\n",
       "    'xBEC',\n",
       "    'xTherm'],\n",
       "   'xparam': matlab.double([[1.2735776258103715,0.7335847641791999,0.26073184102411046,322.8895890844213,150.55203676025934,318.98610059918803,572.0393161284957]]),\n",
       "   'yparam': matlab.double([[1.6369224363590056,0.020428077491476036,0.14360979601033796,465.8667511314736,502.3310050275524,437.3974619198693,840.7743335060076]]),\n",
       "   'xci': matlab.double([[[1.2600725092351885,0.7106059022647276,0.24936214117696937,318.4408511667671,148.71657492922125,316.4417242579931,568.9048877662675],[1.2870827423855544,0.7565636260936722,0.27210154087125155,327.33832700207546,152.38749859129743,321.530476940383,575.1737444907238]]]),\n",
       "   'yci': matlab.double([[[1.3256287223228744,-0.10075671394350694,-0.08874568561028362,437.94678568009175,-11111.050230297284,403.7832172189056,-3774.218836089998],[1.9482161503951367,0.14161286892645902,0.37596527763095955,493.7867165828555,12115.712240352388,471.01170662083297,5455.7675031020135]]])},\n",
       "  'COMX': 398.5797602962132,\n",
       "  'COMY': 439.27073048845136,\n",
       "  'fitBimodalExcludeCenter': {'parameterNames': ['amplitude',\n",
       "    'width',\n",
       "    'position'],\n",
       "   'xparam': matlab.double([[0.9487884259099261,445.1274733778333,211.79939511466347]]),\n",
       "   'yparam': matlab.double([[1.5188403880083392,437.6972539911794,435.22512547987805]]),\n",
       "   'xci': matlab.double([[[0.9455633324281107,0.9520135193917414],[442.73186887434235,447.5230778813243],[210.6877694838138,212.91102074551313]]]),\n",
       "   'yci': matlab.double([[[1.516909666244132,1.5207711097725465],[437.124099990391,438.27040799196783],[434.94541388344953,435.50483707630656]]]),\n",
       "   'GaussianWingsX': matlab.double([[1.7890828038168558,-0.5214636820481952,322.8895891230155,507.46139831172053]]),\n",
       "   'GaussianWingsY': matlab.double([[0.06687834783612902,0.25274431758959176,465.8667511322552,802.9999999999851]]),\n",
       "   'GaussianWingsXci': matlab.double([[[0.7841526086785533,2.794012998955158],[-1.2769392317627186,0.2340118676663283],[139.99721890636965,505.7819593396614],[407.820537536023,607.1022590874181]]]),\n",
       "   'GaussianWingsYci': matlab.double([[[-9.019912011959295,9.153668707631553],[-8.82819933050922,9.333687965688403],[-201166.94421249864,202098.67771476312],[-73198.33741479323,74804.3374147932]]])}},\n",
       " 'settings': {'imageKeyword': 'dual',\n",
       "  'sortFilesBy': 'name',\n",
       "  'moveFile': False,\n",
       "  'plotImage': 'original',\n",
       "  'storeImages': False,\n",
       "  'NormOff': False,\n",
       "  'NormType': 'Box',\n",
       "  'reCenterMarqueeBox': False,\n",
       "  'removeBeamIris': False,\n",
       "  'rawImageSize': matlab.double([[1002.0,1004.0]]),\n",
       "  'marqueeBox': matlab.double([[78.0,119.0,779.0,803.0]]),\n",
       "  'normBox': matlab.double([[95.0,70.0,80.0,92.0]]),\n",
       "  'normBoxOffset': 5.0,\n",
       "  'normBoxWidth': 5.0,\n",
       "  'imageRotationAngle': 0.0,\n",
       "  'xOffset': -10.0,\n",
       "  'yOffset': -55.0,\n",
       "  'beamIris': {},\n",
       "  'ellipseMarqueeX': matlab.double([]),\n",
       "  'ellipseMarqueeY': matlab.double([]),\n",
       "  'avIntPerPixelThreshold': 0.1,\n",
       "  'diffToDarkThreshold': 40.0,\n",
       "  'ODThreshold': 4.0,\n",
       "  'lowThreshold': 0.01,\n",
       "  'superSamplingFactor': 2.0,\n",
       "  'AbbeRadius': 3.0,\n",
       "  'GaussianFilterWidth': 1.0,\n",
       "  'pixelAveraging': 2.0,\n",
       "  'LineDensityPixelAveraging': 1.0,\n",
       "  'LineDensityFoldCenter': False,\n",
       "  'fudgeWidth': 1.0,\n",
       "  'fudgeFilterFreq': 100.0,\n",
       "  'superSamplingFactor1D': 4.0,\n",
       "  'extraPixelForQuickDensity': 2.0,\n",
       "  'plotOD': False,\n",
       "  'verbose': False,\n",
       "  'ODnormalization': 0.10837867974446071}}"
      ]
     },
     "execution_count": 9,
     "metadata": {},
     "output_type": "execute_result"
    }
   ],
   "source": [
    "eng.getMeasNaAnalysis(filepath, 'marqueeBox', matlab.double(initializer=[78.0,119.0,779.0,803.0]), 'normBox', matlab.double(initializer=[95.0,70.0,80.0,92.0]))"
   ]
  },
  {
   "cell_type": "code",
   "execution_count": 12,
   "metadata": {},
   "outputs": [
    {
     "data": {
      "text/plain": [
       "matlab.double([[95.0,70.0,80.0,92.0]])"
      ]
     },
     "execution_count": 12,
     "metadata": {},
     "output_type": "execute_result"
    }
   ],
   "source": [
    "analysis['settings']['normBox']"
   ]
  },
  {
   "cell_type": "code",
   "execution_count": null,
   "metadata": {},
   "outputs": [],
   "source": []
  }
 ],
 "metadata": {
  "kernelspec": {
   "display_name": "Python 3",
   "language": "python",
   "name": "python3"
  },
  "language_info": {
   "codemirror_mode": {
    "name": "ipython",
    "version": 3
   },
   "file_extension": ".py",
   "mimetype": "text/x-python",
   "name": "python",
   "nbconvert_exporter": "python",
   "pygments_lexer": "ipython3",
   "version": "3.7.6"
  }
 },
 "nbformat": 4,
 "nbformat_minor": 4
}
