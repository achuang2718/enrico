{
 "cells": [
  {
   "cell_type": "markdown",
   "metadata": {},
   "source": [
    "# Plot Na MOT Power Logs\n",
    "Plot and analyze Na MOT Power history extracted from pickoff photodetectors (PDs).\n",
    "Need to have:\n",
    "- `rootfolder`: path to photodetector calibration parameter table that converts PD voltage (in V) to laser power (in mW). One can use the helper script `'...\\instrument\\mot_pd_calibration.py'` to create such a parameter table.\n",
    "- `rootfolder`: path to a folder you want to plot. The notebook will automatically look through all levels of subfolders to find folders that contain image files from the experiment. The notebook then takes the `run_id` of those iamge files and retreive the corresponding dataframe (as `df`) from the breadboard. \n",
    "    - Additionally one can specify the subfolders under the rootfolder to only plot data associated with those subfolders, To do this, set `selected_folders` as a list of subfolder names. Otherwise set `selected_folders` to `None`. "
   ]
  },
  {
   "cell_type": "markdown",
   "metadata": {},
   "source": [
    "### Filepath and helper functions"
   ]
  },
  {
   "cell_type": "code",
   "execution_count": null,
   "metadata": {},
   "outputs": [],
   "source": [
    "from utility_functions import get_newest_df, load_bec1serverpath\n",
    "import os, sys\n",
    "import numpy as np\n",
    "import matplotlib.pyplot as plt\n",
    "import matplotlib.dates as mdates\n",
    "from datetime import datetime\n",
    "import pandas as pd\n",
    "import multiprocessing as mp\n",
    "import re\n",
    "import itertools\n",
    "import seaborn as sns\n",
    "rootfolder = r'Z:\\Fermicam 1 data (zcam)\\2022\\202209'\n",
    "selected_folders = ['220915'] # specify subfolders under the rootfolder if you want to only plot results from those folders\n",
    "# selected_folders = None  # alternatively leave as None to select all sub folders under the rootfolder\n",
    "calibration_filepath = r'instruments\\MOT Monitor Calibration Parameter Table_2022-09-15.csv'"
   ]
  },
  {
   "cell_type": "code",
   "execution_count": null,
   "metadata": {},
   "outputs": [],
   "source": [
    "def get_run_dirs(root, selected_dirs = False):\n",
    "    \"\"\"\n",
    "    Get the paths of watchfolders that you want to use to check the MOT powers\n",
    "\n",
    "    Args: \n",
    "        -root: path str of a parent directory. \n",
    "        -selected_dirs: LIST of str where each str is the directory name of a selected sub directroy \n",
    "        in the parent directory or leave as False to iterate through all subdirectories\n",
    "\n",
    "    Return: a list of paths of run folders\n",
    "\n",
    "    \"\"\"\n",
    "    from glob import glob\n",
    "    run_dirs = []\n",
    "    if selected_dirs == False:\n",
    "        selected_dirs = [dir for dir in os.listdir(root)]\n",
    "\n",
    "    #if provided root path is a specific experimental run: \n",
    "    if any('.spe' in dir for dir in selected_dirs):\n",
    "        run_dirs = [root]\n",
    "    #if provided root path is a specific day:\n",
    "    elif any('run' in dir for dir in selected_dirs): \n",
    "        for dir in selected_dirs:\n",
    "            if 'run' in dir:\n",
    "                path = os.path.abspath(os.path.join(root, dir))\n",
    "                run_dirs += [path]\n",
    "    #if provided root path is a specific month or above:\n",
    "    else:\n",
    "        for dir in selected_dirs:\n",
    "            path = os.path.abspath(os.path.join(root, dir))\n",
    "            run_dirs += glob(path + r'/**/run*/', recursive=True)\n",
    "\n",
    "    return run_dirs    \n",
    "    \n",
    "def calibrate_MOT_monitor(df, calibration_filepath):\n",
    "    df_fits = pd.read_csv(calibration_filepath, index_col=0)\n",
    "    for port in df_fits.columns:\n",
    "        func = np.poly1d(df_fits[port])\n",
    "        voltages = df[f'NaMOT_{port}_mean_in_mv']/1000\n",
    "        powers  = func(voltages)\n",
    "        df[f'NaMOT_{port}_mean_in_mw'] = powers\n",
    "\n",
    "def show_MOT_stat(df):\n",
    "    mean = df[NaMOT_ports+['Na_TFx']].mean()\n",
    "    std = df[NaMOT_ports+['Na_TFx']].std()\n",
    "    percent_drift = 100*std/mean\n",
    "    port_label = [port.split('_')[1] for port in NaMOT_ports] + ['Na_TFx']\n",
    "    df_stat = pd.concat([mean,percent_drift],axis=1)\n",
    "    df_stat.index = port_label\n",
    "    df_stat.columns = ['Mean Laser Power [mW]', '% Standard Deviation']\n",
    "    return df_stat\n",
    "\n",
    "def show_MOT_hist(df):\n",
    "    data = df[NaMOT_ports]\n",
    "    labels = [label.split('_')[1] for label in NaMOT_ports]\n",
    "    data.columns = labels\n",
    "    \n",
    "    fig, axes = plt.subplots(1, 7, figsize=(20,4))\n",
    "    data.hist(bins = 10, ax = axes, color='orange', rwidth=0.9)\n",
    "    for ax, label in zip(axes, labels):\n",
    "        ax.set_xlabel('Laser Power [mW]')\n",
    "        ax.set_ylabel('Counts')\n",
    "    ax.grid(color='lightgray', alpha=0.8)\n",
    "    plt.tight_layout()\n",
    "\n",
    "\n",
    "def filter_by_power(df, nsigma = 5):\n",
    "    \"\"\"Filter bad shots with very low total MOT powers by nsigma standard deviation\"\"\"\n",
    "    mean, std = df['NaMOT_Total_mean_in_mw'].mean(), df['NaMOT_Total_mean_in_mw'].std()\n",
    "    df_filtered = df[np.abs(df['NaMOT_Total_mean_in_mw'] - mean) <= nsigma*std]\n",
    "    ntotal = len(df.index)\n",
    "    nfiltered = ntotal - len(df_filtered.index)\n",
    "    print(f'Removed {nfiltered} outliers out of {ntotal} with total powers {nsigma} std away from mean')\n",
    "    return df_filtered\n",
    "\n",
    "def filter_by_BECsize(df, nsigma = 5):\n",
    "    \"\"\"Filter bad shots with very low Na_TFx by nsigma standard deviation\"\"\"\n",
    "    mean, std = df['Na_TFx'].mean(), df['Na_TFx'].std()\n",
    "    df_filtered = df[np.abs(df['Na_TFx'] - mean) <= nsigma*std]\n",
    "    ntotal = len(df.index)\n",
    "    nfiltered = ntotal - len(df_filtered.index)\n",
    "    print(f'Removed {nfiltered} outliers out of {ntotal} with Na_TFx {nsigma} std away from mean')\n",
    "    return df_filtered"
   ]
  },
  {
   "cell_type": "markdown",
   "metadata": {},
   "source": [
    "### Retrieve and clean up data from breadboard"
   ]
  },
  {
   "cell_type": "code",
   "execution_count": null,
   "metadata": {},
   "outputs": [],
   "source": [
    "watchfolders = get_run_dirs(rootfolder,selected_folders)\n",
    "print('Found ' + str(len(watchfolders)) + ' run folders to monitor Na MOT powers')"
   ]
  },
  {
   "cell_type": "code",
   "execution_count": null,
   "metadata": {},
   "outputs": [],
   "source": [
    "df_raw = pd.concat([get_newest_df(folder) for folder in watchfolders])\n",
    "print('Imported dataframe shape: '+ str(df_raw.shape))"
   ]
  },
  {
   "cell_type": "code",
   "execution_count": null,
   "metadata": {},
   "outputs": [],
   "source": [
    "#Clean up: indexing, datetime formatting, ordering\n",
    "df_raw.index = df_raw['run_id']\n",
    "times = [datetime.strptime(timestamp, \"%Y-%m-%dT%H:%M:%SZ\") for timestamp in df_raw['runtime (format: %Y-%m-%dT%H:%M:%SZ)']]\n",
    "df_raw['datetimes'] = times\n",
    "df_raw = df_raw.sort_values(by='datetimes')"
   ]
  },
  {
   "cell_type": "code",
   "execution_count": null,
   "metadata": {},
   "outputs": [],
   "source": [
    "#Convert MOT montor photodetector voltage to laser power\n",
    "calibrate_MOT_monitor(df_raw, calibration_filepath)\n",
    "NaMOT_ports = [k for k in df_raw.columns if re.search('NaMOT(.*)mean_in_mw',k)]\n",
    "df_raw['NaMOT_Total_mean_in_mw'] = df_raw[NaMOT_ports].sum(axis=1, min_count=1)\n",
    "NaMOT_ports += ['NaMOT_Total_mean_in_mw']"
   ]
  },
  {
   "cell_type": "code",
   "execution_count": null,
   "metadata": {},
   "outputs": [],
   "source": [
    "#Filter outliers by total mot powers to get rid of accidental bad shots\n",
    "df = df_raw.copy()\n",
    "df = filter_by_power(df=df_raw, nsigma=3)"
   ]
  },
  {
   "cell_type": "code",
   "execution_count": null,
   "metadata": {},
   "outputs": [],
   "source": [
    "#Filter outliers by Na_TFx to get rid of bad shots\n",
    "df = filter_by_BECsize(df=df, nsigma=3)"
   ]
  },
  {
   "cell_type": "code",
   "execution_count": null,
   "metadata": {},
   "outputs": [],
   "source": [
    "#Normalize time series to see drifts in percentages. TODO: Handle NaN values of Na_TFx\n",
    "startlogging_idx = df['NaMOT_Top_mean_in_mw'].index.get_loc(df['NaMOT_Top_mean_in_mw'].first_valid_index())\n",
    "print('Normalizing all relevant time series with the following starting values: ')\n",
    "print(df[NaMOT_ports+['Na_TFx']].iloc[startlogging_idx].to_string())"
   ]
  },
  {
   "cell_type": "markdown",
   "metadata": {},
   "source": [
    "### Summary statistics and plots"
   ]
  },
  {
   "cell_type": "markdown",
   "metadata": {},
   "source": [
    "#### Statistics"
   ]
  },
  {
   "cell_type": "code",
   "execution_count": null,
   "metadata": {},
   "outputs": [],
   "source": [
    "NaMOT_stats = show_MOT_stat(df)\n",
    "NaMOT_stats"
   ]
  },
  {
   "cell_type": "code",
   "execution_count": null,
   "metadata": {},
   "outputs": [],
   "source": [
    "show_MOT_hist(df)"
   ]
  },
  {
   "cell_type": "markdown",
   "metadata": {},
   "source": [
    "#### All traces with powers in mW"
   ]
  },
  {
   "cell_type": "code",
   "execution_count": null,
   "metadata": {},
   "outputs": [],
   "source": [
    "plt.rcParams.update({'font.size': 18})\n",
    "fig, [ax1,ax2, ax3] = plt.subplots(3,1,figsize=(30,16),sharex=True, gridspec_kw={'height_ratios': [4, 0.5, 0.5]})\n",
    "for port in NaMOT_ports[:-1]:\n",
    "    label = port.split('_')[1]\n",
    "    ax1.scatter(df['datetimes'],df[port],label=label)\n",
    "    ax1.set_xlabel('Time')\n",
    "    ax1.set_ylabel('Laser Power [mW]')\n",
    "    ax1.xaxis.set_tick_params(labelbottom=True)\n",
    "    ax1.xaxis.set_major_formatter(mdates.DateFormatter('%y/%m/%d %H:%M'))\n",
    "    ax1.grid(color='lightgray', alpha=0.8)\n",
    "    ax1.set_title('Na MOT Power Monitoring: Six Ports')\n",
    "\n",
    "\n",
    "ax2.scatter(df['datetimes'],df['NaMOT_Total_mean_in_mw'],color='darkred')\n",
    "ax2.xaxis.set_tick_params(labelbottom=True)\n",
    "ax2.set_xlabel('Time')\n",
    "ax2.set_ylabel('Laser Power [mW]')\n",
    "ax2.grid(color='lightgray', alpha=0.8)\n",
    "ax2.set_title('Na MOT Power Monitoring: Total')\n",
    "\n",
    "ax3.scatter(df['datetimes'],df['Na_TFx'],color='midnightblue')\n",
    "ax3.xaxis.set_tick_params(labelbottom=True)\n",
    "ax3.set_xlabel('Time')\n",
    "ax3.set_ylabel('Na_TFx')\n",
    "ax3.grid(color='lightgray', alpha=0.8)\n",
    "ax3.set_title('Na MOT Power Monitoring: BEC Size (Na_TFx)')\n",
    "\n",
    "fig.legend(loc='right', ncol = 1, title='MOT Ports')\n",
    "plt.tight_layout()\n",
    "# mpld3.display()"
   ]
  },
  {
   "cell_type": "markdown",
   "metadata": {},
   "source": [
    "#### Individual traces with powers in %"
   ]
  },
  {
   "cell_type": "code",
   "execution_count": null,
   "metadata": {},
   "outputs": [],
   "source": [
    "fig, axes = plt.subplots(8,1,sharex=True,figsize=(27,18))\n",
    "colors = ['crimson'] * 6 + ['darkred','midnightblue']\n",
    "for port, ax, c in zip(NaMOT_ports, axes[:-1], colors[:-1]):\n",
    "    label = port.split('_')[1]\n",
    "    start_value = df[port].iloc[startlogging_idx]\n",
    "    (mean, std) = NaMOT_stats.loc[label,:]\n",
    "    ax.scatter(df['datetimes'],df[port]/start_value,label=label,color=c)\n",
    "    ax.xaxis.set_tick_params(labelbottom=True)\n",
    "    ax.grid(color='lightgray', alpha=0.8)\n",
    "    ax.set_xlabel('Time')\n",
    "    ax.set_ylabel('Power')\n",
    "    ax.set_title(f'Na MOT - {label} (Normalized)    Mean = {mean:.1f}mW   std = {std:.2f}%')\n",
    "\n",
    "(mean_TFx, std_TFx) = NaMOT_stats.loc['Na_TFx',:]\n",
    "axes[-1].scatter(df['datetimes'], df['Na_TFx']/df['Na_TFx'].iloc[startlogging_idx], label='Na_TFx',color=colors[-1])\n",
    "axes[-1].grid(color='lightgray', alpha=0.8)\n",
    "axes[-1].set_xlabel('Time')\n",
    "axes[-1].set_ylabel('Na_TFx')\n",
    "axes[-1].set_title(f'Na_TFx (Normalized)    Mean = {mean_TFx:.1f}mW   std = {std_TFx:.2f}%')\n",
    "axes[-1].xaxis.set_major_formatter(mdates.DateFormatter('%y/%m/%d %H:%M'))\n",
    "\n",
    "# axes[0].set_xlim([datetime(2022,9,13,13,30), datetime(2022,9,13,19,10)])\n",
    "plt.tight_layout()\n"
   ]
  },
  {
   "cell_type": "markdown",
   "metadata": {},
   "source": [
    "### More plots: correlation analysis"
   ]
  },
  {
   "cell_type": "code",
   "execution_count": null,
   "metadata": {},
   "outputs": [],
   "source": [
    "fig, ax = plt.subplots(figsize=(40,10))\n",
    "ax.scatter(df['datetimes'], df['NaMOT_NaSlower_mean_in_mw']/df['NaMOT_NaSlower_mean_in_mw'].iloc[startlogging_idx], \n",
    "            label='Na MOT_NaSlower Power (Normalized)',\n",
    "            color='red',\n",
    "            s=50\n",
    "            )\n",
    "ax.scatter(df['datetimes'], df['Na_TFx']/df['Na_TFx'].iloc[startlogging_idx], label='Na_TFx (Normalized)',color='blue')\n",
    "ax.plot(df['datetimes'], df['Na_TFx']/df['Na_TFx'].iloc[startlogging_idx], label='Na_TFx (Normalized)',color='gray')\n",
    "\n",
    "# ax.set_xlim([datetime(2022,9,13,13,30), datetime(2022,9,13,19,10)])\n",
    "ax.xaxis.set_major_formatter(mdates.DateFormatter('%y/%m/%d %H:%M'))\n",
    "ax.set_xlabel('Time')\n",
    "ax.set_ylabel('Normalized Things')\n",
    "ax.set_title('Correlation between MOT power and BEC Size')\n",
    "fig.legend(loc='upper center', ncol = 3)\n",
    "ax.grid(color='lightgray', alpha=0.8)\n",
    "\n",
    "# mpld3.display(fig)"
   ]
  },
  {
   "cell_type": "code",
   "execution_count": null,
   "metadata": {},
   "outputs": [],
   "source": [
    "plt.rcParams.update({'font.size': 12})\n",
    "fig, axes = plt.subplots(3,3,sharey=True,figsize=(20,10))\n",
    "for port, ax in zip(NaMOT_ports, axes.flat[:7]):\n",
    "    label = port.split('_')[1]\n",
    "    fx = np.poly1d(np.polyfit(df[port],df['Na_TFx'],1))\n",
    "    p_min, p_max = df[port].min(), df[port].max()\n",
    "    powers = np.linspace(p_min,p_max,100)\n",
    "\n",
    "    ax.scatter(df[port], df['Na_TFx'],color='blue')\n",
    "    ax.plot(powers,fx(powers),label=f'Linear Fit: {fx}', color='red',lw=2)\n",
    "    ax.grid(color='lightgray', alpha=0.8)\n",
    "    ax.set_xlabel('Laser Power [mW]')\n",
    "    ax.set_ylabel('Na_TFx')\n",
    "    ax.set_title(f'{label}')\n",
    "    ax.legend()\n",
    "fig.delaxes(axes[2][2])\n",
    "fig.delaxes(axes[2][1])\n",
    "fig.suptitle('Correlation between BEC size and each MOT port power')\n",
    "plt.tight_layout()"
   ]
  },
  {
   "cell_type": "code",
   "execution_count": null,
   "metadata": {},
   "outputs": [],
   "source": [
    "corrmat = df[['Na_TFx'] + NaMOT_ports].corr().round(5)\n",
    "corrmat.columns = (['Na_TFx']+[port.split('_')[1] for port in NaMOT_ports])\n",
    "corrmat.index = (['Na_TFx']+[port.split('_')[1] for port in NaMOT_ports])\n",
    "plt.rcParams.update({'font.size': 10})\n",
    "fig, ax = plt.subplots(figsize=(8,8))\n",
    "ax.set_title('Correlation Matrix')\n",
    "sns.heatmap(corrmat, annot=True, fmt='.3f',linewidths=0.5, ax=ax)"
   ]
  },
  {
   "cell_type": "code",
   "execution_count": null,
   "metadata": {},
   "outputs": [],
   "source": [
    "# fig, ax = plt.subplots(figsize=(30,10))\n",
    "# for port in NaMOT_ports:\n",
    "#     label = port.split('_')[1]\n",
    "#     start_value = df[port].iloc[startlogging_idx]\n",
    "#     ax.scatter(df['datetimes'],df[port]/start_value,label=label)\n",
    "# ax.scatter(df['datetimes'], df['Na_TFx']/df['Na_TFx'].iloc[startlogging_idx], label='Na_TFx',marker='x')\n",
    "# ax.xaxis.set_major_formatter(mdates.DateFormatter('%y/%m/%d %H:%M'))\n",
    "\n",
    "# # ax.set_xlim([datetime(2022,9,13,13,30), datetime(2022,9,13,19,10)])\n",
    "\n",
    "# ax.set_xlabel('Time')\n",
    "# ax.set_ylabel('Normalized Things')\n",
    "# ax.set_title('Na MOT Power Monitoring - Normalized by Starting Value')\n",
    "# fig.legend(loc='upper center', ncol = 8)\n",
    "# ax.grid(color='lightgray', alpha=0.8)\n",
    "\n",
    "# # mpld3.display(fig)"
   ]
  }
 ],
 "metadata": {
  "kernelspec": {
   "display_name": "Python 3 (ipykernel)",
   "language": "python",
   "name": "python3"
  },
  "language_info": {
   "codemirror_mode": {
    "name": "ipython",
    "version": 3
   },
   "file_extension": ".py",
   "mimetype": "text/x-python",
   "name": "python",
   "nbconvert_exporter": "python",
   "pygments_lexer": "ipython3",
   "version": "3.8.5"
  },
  "vscode": {
   "interpreter": {
    "hash": "84a0d935dd1b360747f7e5ea2e92341196346e90fdcd72bbc50244691582748f"
   }
  }
 },
 "nbformat": 4,
 "nbformat_minor": 2
}
